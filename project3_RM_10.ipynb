{
 "cells": [
  {
   "cell_type": "code",
   "execution_count": 1,
   "id": "e2b5dd76",
   "metadata": {},
   "outputs": [],
   "source": [
    "#######################\n",
    "# Project 3\n",
    "# ESE 572\n",
    "# Layer 2 Channel Coding\n",
    "#######################\n",
    "\n",
    "# Choose a probability of bit error to use when simulating the receiving end.\n",
    "\n",
    "prob = 0.1\n",
    "# prob = 0.01"
   ]
  },
  {
   "cell_type": "code",
   "execution_count": 2,
   "id": "2fc8fdf2",
   "metadata": {},
   "outputs": [],
   "source": [
    "#######################\n",
    "# Step 1\n",
    "#######################\n",
    "\n",
    "# Function to convert string to binary using ASCII encoding\n",
    "def string_to_binary(string):\n",
    "    binary = ''\n",
    "    binaryS = ''\n",
    "    binaryC = ''\n",
    "    counter = 0\n",
    "    for char in string:\n",
    "        ascii_code = ord(char) # Get ASCII code of character\n",
    "        if counter == 24:\n",
    "            binary += format(ascii_code, '08b')\n",
    "            binaryS += format(ascii_code, '08b') + ' '\n",
    "            binaryC += format(ascii_code, '08b') + '\\n'\n",
    "            counter = 0\n",
    "        else:\n",
    "            binary += format(ascii_code, '08b')\n",
    "            binaryS += format(ascii_code, '08b') + ' '\n",
    "            binaryC += format(ascii_code, '08b')\n",
    "            counter += 1\n",
    "    return binary, binaryS, binaryC\n",
    "\n",
    "# Load the document\n",
    "filename = 'input.txt'\n",
    "text = ''\n",
    "with open(filename,'r') as i:\n",
    "    text += i.readline()\n",
    "    \n",
    "binary_data, binaryS_data, binaryC_data = string_to_binary(text)\n",
    "\n",
    "# binary_data is single line\n",
    "# binaryS_data contain spaces to delimitate each character\n",
    "# binaryC_data is split as chunks of 200 bits\n"
   ]
  },
  {
   "cell_type": "code",
   "execution_count": 3,
   "id": "1e02efa6",
   "metadata": {},
   "outputs": [
    {
     "name": "stdout",
     "output_type": "stream",
     "text": [
      "010010010110111000100000001100010011100000110101001100110010110000100000011100000111001001101111011011010110100101101110011001010110111001110100001000000101001101110100001011100010000001001100011011111111100010111010\n"
     ]
    }
   ],
   "source": [
    "#######################\n",
    "# Step 2\n",
    "#######################\n",
    "\n",
    "# Create CRC for g(D) = [D16 + D12 + D5 + 1]\n",
    "crc_str = '10001000000100001' # divisor\n",
    "int_crc_str = int(crc_str,2)\n",
    "frames = []\n",
    "\n",
    "binary_chunks = binaryC_data.split('\\n')\n",
    "for chunk in binary_chunks[:-1]:\n",
    "    temp = chunk + \"0000000000000000\"\n",
    "    temp = int(temp,2)\n",
    "    crc = temp % int_crc_str\n",
    "    crc = format(crc, '016b')\n",
    "    if len(crc) > 16:\n",
    "        crc = crc[-16:]\n",
    "    frames.append(chunk + crc)\n",
    "\n",
    "print((frames[0]))"
   ]
  },
  {
   "cell_type": "code",
   "execution_count": 4,
   "id": "3e523bff",
   "metadata": {},
   "outputs": [
    {
     "name": "stdout",
     "output_type": "stream",
     "text": [
      "[array([0, 0, 0, 0, 0, 0, 0, 0]), array([0, 1, 0, 1, 0, 1, 0, 1]), array([0, 0, 1, 1, 0, 0, 1, 1]), array([0, 1, 1, 0, 0, 1, 1, 0]), array([0, 0, 0, 0, 1, 1, 1, 1]), array([0, 1, 0, 1, 1, 0, 1, 0]), array([0, 0, 1, 1, 1, 1, 0, 0]), array([0, 1, 1, 0, 1, 0, 0, 1]), array([1, 1, 1, 1, 1, 1, 1, 1]), array([1, 0, 1, 0, 1, 0, 1, 0]), array([1, 1, 0, 0, 1, 1, 0, 0]), array([1, 0, 0, 1, 1, 0, 0, 1]), array([1, 1, 1, 1, 0, 0, 0, 0]), array([1, 0, 1, 0, 0, 1, 0, 1]), array([1, 1, 0, 0, 0, 0, 1, 1]), array([1, 0, 0, 1, 0, 1, 1, 0])]\n",
      "Sent Message: [0 1 1 1]\n",
      "\n",
      "Encoded code: [0 1 1 0 1 0 0 1]\n",
      "\n",
      "Decoded message: [0, 1, 1, 1]\n",
      "432\n"
     ]
    }
   ],
   "source": [
    "#######################\n",
    "# Step 3\n",
    "#######################\n",
    "## Channel Coding **NEW**\n",
    "\n",
    "import numpy as np\n",
    "\n",
    "def encode_message(msg, matrix):\n",
    "    code = np.mod(np.dot(msg, matrix), 2)\n",
    "    return code\n",
    "\n",
    "def decode_message(code, valid_codewords):\n",
    "    incorrect_vec = []\n",
    "    incorrect = 0\n",
    "    for codeword in valid_codewords:\n",
    "        for ind in range(len(codeword)):\n",
    "            if codeword[ind] != code[ind]:\n",
    "                incorrect += 1\n",
    "        incorrect_vec.append(incorrect)\n",
    "        incorrect = 0\n",
    "    closest = np.min(incorrect_vec)\n",
    "    closest = np.where(incorrect_vec == closest)[0][0]\n",
    "    decoded_msg = valid_data[closest]\n",
    "    return decoded_msg\n",
    "\n",
    "G = np.array([[1,1,1,1,1,1,1,1],\n",
    "              [0,0,0,0,1,1,1,1],\n",
    "              [0,0,1,1,0,0,1,1],\n",
    "              [0,1,0,1,0,1,0,1]])\n",
    "\n",
    "valid_data = [[0,0,0,0], [0,0,0,1], [0,0,1,0], [0,0,1,1],\n",
    "              [0,1,0,0], [0,1,0,1], [0,1,1,0], [0,1,1,1],\n",
    "              [1,0,0,0], [1,0,0,1], [1,0,1,0], [1,0,1,1],\n",
    "              [1,1,0,0], [1,1,0,1], [1,1,1,0], [1,1,1,1]]\n",
    "\n",
    "valid_codewords = []\n",
    "for data in valid_data:\n",
    "    valid_codewords.append(encode_message(data,G))\n",
    "print(valid_codewords)\n",
    "\n",
    "############ Example ############\n",
    "msg = np.array([0, 1, 1, 1])\n",
    "print(\"Sent Message:\", msg)\n",
    "print()\n",
    "\n",
    "code = encode_message(msg, G)\n",
    "print(\"Encoded code:\", code)\n",
    "print()\n",
    "\n",
    "decoded_msg = decode_message(code, valid_codewords)\n",
    "print(\"Decoded message:\", decoded_msg)\n",
    "############ End Example ############\n",
    "\n",
    "def array_to_string(array):\n",
    "    output = \"\"\n",
    "    for each in array:\n",
    "        output += str(each)\n",
    "    return output\n",
    "\n",
    "def string_to_array(string):\n",
    "    output = []\n",
    "    for each in string:\n",
    "        output.append(int(each))\n",
    "    output = np.array(output)\n",
    "    return output\n",
    "\n",
    "def RM_string(input_string):\n",
    "    output_string = \"\"\n",
    "    ind = 0\n",
    "    while(ind <= len(input_string)):\n",
    "        dat = input_string[ind:ind+4]\n",
    "        data_string = string_to_array(dat)\n",
    "        if data_string.size != 0:\n",
    "            data_string = data_string.reshape((1,4))\n",
    "            encoded = encode_message(data_string,G)[0]\n",
    "            output_string += array_to_string(encoded)\n",
    "        else:\n",
    "            output_string += str(dat[-1:])\n",
    "        ind += 4\n",
    "    return output_string\n",
    "\n",
    "binaryRM = []\n",
    "for frame in frames:\n",
    "    binaryRM.append(RM_string(frame))\n",
    "    \n",
    "print(len(binaryRM[0]))"
   ]
  },
  {
   "cell_type": "code",
   "execution_count": 5,
   "id": "d728b4ff",
   "metadata": {},
   "outputs": [
    {
     "name": "stdout",
     "output_type": "stream",
     "text": [
      "bits stuffed: 0\n",
      "000111111111111111111000000011111010101000111100110000110011001100000000011001100101010101100110111111110110011001011010011001100110011000110011111100000011001100000000011010010000000001101001001100110011110010010110001111001010010100111100101010100011110011000011001111000101101000111100110000110110100100001111001100110000000001011010011001100110100100001111001100111100001100110011000000000000111111110000001111001001011010010110111111111001100111001100\n"
     ]
    }
   ],
   "source": [
    "#######################\n",
    "# Step 4\n",
    "#######################\n",
    "\n",
    "# flag = '01111110'\n",
    "flag = '000111111111111111111000' # tripled\n",
    "framed_frames = []\n",
    "bitstuff=0\n",
    "for binRM in binaryRM:\n",
    "    i = 0\n",
    "    \n",
    "    while(i <= (len(binRM) - 18)):\n",
    "        if binRM[i:i+18] == '111111111111111111':\n",
    "            binRM = binRM[:i+17] + '0' + binRM[i+17:] # bit stuff after any string of five 1s\n",
    "            bitstuff+=1\n",
    "            i += 18\n",
    "        else:\n",
    "            i += 1\n",
    "    framed_frames.append(flag + binRM)\n",
    "    \n",
    "framed_frames.append(flag) # after last FEC frame, insert another flag\n",
    "print('bits stuffed: '+str(bitstuff))\n",
    "print(framed_frames[0])"
   ]
  },
  {
   "cell_type": "code",
   "execution_count": 6,
   "id": "6c12baaf",
   "metadata": {},
   "outputs": [
    {
     "name": "stdout",
     "output_type": "stream",
     "text": [
      "20544\n"
     ]
    }
   ],
   "source": [
    "#######################\n",
    "# Sequence to Transmit\n",
    "#######################\n",
    "\n",
    "sequence = ''\n",
    "for fram in framed_frames:\n",
    "    sequence += fram\n",
    "    # print(len(fram))\n",
    "    \n",
    "print(len(sequence))"
   ]
  },
  {
   "cell_type": "code",
   "execution_count": 7,
   "id": "589856a0",
   "metadata": {},
   "outputs": [
    {
     "name": "stdout",
     "output_type": "stream",
     "text": [
      "Number added random errors: 2077\n",
      "20544\n"
     ]
    }
   ],
   "source": [
    "#######################\n",
    "# Step 5: Error\n",
    "#######################\n",
    "\n",
    "import random\n",
    "\n",
    "lim = {0.1: 9,\n",
    "       0.01: 99}\n",
    "\n",
    "rxbits = ''\n",
    "errors = 0\n",
    "\n",
    "for bit in sequence:\n",
    "    rnum = random.randint(0,lim[prob])\n",
    "    # rnum = 1 # no errors\n",
    "    if rnum == 0: # error bit\n",
    "        errors += 1\n",
    "        if bit == '1':\n",
    "            bit = '0'\n",
    "        else:\n",
    "            bit = '1'\n",
    "    rxbits += bit\n",
    "print(\"Number added random errors:\", errors)\n",
    "print(len(rxbits))"
   ]
  },
  {
   "cell_type": "code",
   "execution_count": 8,
   "id": "2cd09a32",
   "metadata": {},
   "outputs": [
    {
     "name": "stdout",
     "output_type": "stream",
     "text": [
      "20544\n"
     ]
    }
   ],
   "source": [
    "#######################\n",
    "# Step 5: Unstuffing\n",
    "#######################\n",
    "\n",
    "def unstuff(bits):\n",
    "    i = 0\n",
    "    while i < len(bits)-3:\n",
    "        #print(bits[i:i+19])\n",
    "        if bits[i:i+19] == '1111111111111111101':\n",
    "            print(bits[i:i+19])\n",
    "            bits = bits[:i+17] + bits[i+18:] # remove bit stuffing\n",
    "            print(bits[i:i+19])\n",
    "            i += 18\n",
    "        else:\n",
    "            i += 1\n",
    "    return bits\n",
    "\n",
    "rxbits = unstuff(rxbits)\n",
    "print(len(rxbits))"
   ]
  },
  {
   "cell_type": "code",
   "execution_count": 9,
   "id": "ca81846e",
   "metadata": {},
   "outputs": [
    {
     "name": "stdout",
     "output_type": "stream",
     "text": [
      "000111111111111111111000100011111010101000111100110000110011001100000000001001100101010000100110111100110110011011011011011001000110011000110011101100111011101100000000011010010000000001100001001100111011110101010110000111001010010100111110101011100011110001000011001111000101101001001100110000110111100000001110001100110010000001011010011001110110110100001011001100111110010100110001100000000000111111111000001111001001010110010000111111011001110111001100000111101111101111011000011000010100101000111100101011100110101101101111001100110000000000111100101001011011111001011110011010110011101100101100010011100011110011111111001110010101010000111100110000110110100101001111001100111000001011011010011010010001110001010101010010011000101000111100101001010011110001010101001110001000001100110011000000000000111101101110111011010111001001111000100111100100100111101001001111110000000000111110101001011111001001011010000111011111111101111000001111000101110110111100110000110011110000000110001100110000000000011100111111110011111010101010011011010101010000110010001100010100100000001000001111000101010101100011011101100110100100001101001111001001011011101001001100110011001111110000001010110110000001111010011010010011110000101010001010000111000100111100111000100010110010101000001111100101000100111100101001110111001000000001000011110110100101011010110000010101000110000000\n",
      "456\n"
     ]
    }
   ],
   "source": [
    "#######################\n",
    "# Step 5: Fixing\n",
    "#######################\n",
    "\n",
    "corrected_bits = rxbits\n",
    "# finding flags to reseparate frames\n",
    "i = 0\n",
    "start = -1\n",
    "end = -1\n",
    "new_frames = []\n",
    "flag_flag = 0\n",
    "\n",
    "while (i < len(corrected_bits)):\n",
    "    if corrected_bits[i:i+24] == flag:\n",
    "        flag_flag = 1\n",
    "        if start != -1:\n",
    "            end = i\n",
    "            temp = corrected_bits[start:end]\n",
    "            new_frames.append(temp)\n",
    "            start = i\n",
    "        else:\n",
    "            start = i\n",
    "    if flag_flag:\n",
    "        i += 24\n",
    "        flag_flag = 0\n",
    "    else:\n",
    "        i += 1\n",
    "\n",
    "new_frames.append(corrected_bits[start:])\n",
    "\n",
    "new_frames = new_frames[:-1]\n",
    "print(new_frames[0])\n",
    "print(len(new_frames[-2]))\n",
    "\n",
    "# frames separated, unstuffed but need :: untripled, CRC checked, and then converted to text"
   ]
  },
  {
   "cell_type": "code",
   "execution_count": 10,
   "id": "aea41d51",
   "metadata": {},
   "outputs": [
    {
     "name": "stdout",
     "output_type": "stream",
     "text": [
      "1344\n"
     ]
    }
   ],
   "source": [
    "#######################\n",
    "# Step 5: Remove flag\n",
    "#######################\n",
    "\n",
    "rxseqs = []\n",
    "for nf in new_frames:\n",
    "    rxseqs.append(nf[24:])\n",
    "\n",
    "print(len(rxseqs[0]))\n",
    "# need :: CRC checked, and then converted to text"
   ]
  },
  {
   "cell_type": "code",
   "execution_count": 11,
   "id": "0ca26406",
   "metadata": {},
   "outputs": [
    {
     "name": "stdout",
     "output_type": "stream",
     "text": [
      "010010010110111000100000001100010011001000110101001100110010001000100000011100000111001001100001011011010110100101101110011001011010111001010100001000000101001101110100001011010010000001001100011000010000100010111010010010000101011101010110100101110011001000000110110101100101011100100110001101101000001000010110111001110100001000000101011101100001011110010110110101100001011011100010000001000011011100100101111101110111001000000110110111000101000110000101011000010110111001100000001000000110100001101001011100010010001000000000011000010010001101110100011011110111001000101100001000000101011101101001000000010110001101101001011000010110110100100000010001110101111000010000\n",
      "011100100110000101100101011011101000011100110101011000010110011000100000010001010110110001101001011011110111010000100000010010100010000010010001001011000010000001100011011011110110111001100011011001011001000001100101010010001100011100100010111001100101011001000010000001100001011000100110111100010110011101000010000010000100000010000110010100100000011011000110000101100011011000000010000001101111110001100010000001101001011011100000001000010010000110000110001100110111010001101001011101000111010101110100000110010011111101101110011100110010000001101111011001100010000000001000000110010100011101101000011001010001001000100000011011000110010101100001000100100001111100010011010010001100011011100110100101101110011001110001000001100100011011100010000000110100011010000011010100100000011001110111001001101101011101111010100101101110011001110010000001101101011010010110010001110111011001010001100110100001010001111100010100110111010000101100001000000110110001100101011001000010000001110001011010000110001000000000011000100110111101110101011011100110010001101001011011100110011100100000011011110110011000100000000000000110011110100101010010000101101000010111001100011000011000000110111001100111011101000110111101101110001000000101010101100010001010100111011001100010010100100111001101101001011101000111100100100000011000000011001101010000000000110000000011101011010010001100011101000010111000100000010011000110111101110101011010010000001100101110001000000100000000000000011100100000010001100010111101110010000001110100011010000000010100100000001100000111100000110100001100000111010111001001001010000101011100110001000001100001011011100110010000100000000001010011000000000011001011000010000001110111011000010111011000100000011100110010000001101111011000000010000000001001011011010110000101101001011001110000111000000111100010001100011100100110000101100100011101000111001100100001011001100110000100011111011011110110010001100101011001000010000001101001011011100111010001101111001000000101001101110100001001000111000001001100011011110001101010100110010010000111011101010110001001110011000111000010000001100010011011110110111101000011011101000110100101100001011001110010000001110100011010000110010100100000000000000110111101110000011100000110000001100001001101000001111001101001010010001100011010010110111101101110001000000000111100000110001000000111010001101000011001010010000000110101011011110111010101100000011001110010000001100011010010010111010000101001001011100010000001010111011010010000001100000110010010001001011101000110100000100000011101000110010000000101011100110110111000100000011011100110010101110111011000110110010101100011011010110011001000010011001000010110001101100001011000100110010100100000011000010101100001101110\n",
      "001000000100000001110010001000100111001101110011011010010110111001100111001000000110111001100101011001010010010000100000011000010110111101110010001000000110010101100100000001010110001101100001011100001101110001010111\n",
      "011010010110111101101110001000000010110100100000001000100110111101110100011010000010000001101001011011100110010001110010000100110111010000100000011010010100000101101100001000000001010001110010011000011111110000010100000110001100011000100110111001101001011011100100011100100000011000110110111001100100001000000110001001100001011100110110100101100011001000000110011101100101011011100110010100100010011000010110110000100000011000110000101010110100000110001100011011110111010101010010011100110110010101110000001000000010001000100000000000110110001001101110011001000111010101100011011101000110010101100100001000000110111101110101011101000111001101100011011001000000001101000100010001011100011001010010000010110101001101100010000001101110000111110111001001101101011000010110110000100000011101110110111101110010000010110110100100101110011001110000000001101000011011110111010101000010001100111101000000101111010010000101001011100010000000100011011011110010000001110100010110000100010100100000011001100110100101110010011100110011111000100000011001010110010001110101011000010010000101110100011010111010111101101110011000010110010010001001000101001100011011000010000001110011011101000010010101110000001000000110111101100110001000000111010001101000011001010010000001111001000000100111010100001110011001110010000000000111011000010111001101101000011000111100010001101001010001010110011011100110011101110100011010110110111000100000010101000110111001101001011100000110000101110010110100100110100101110100011110010010000001110111011000010111001100100000011101000110111100100000011001011110001100111000011010001100011100110111010001100001000100100100110001101001011100110110100000100000001000010110000100100000010001010111011001100101011000110110000001101110011001010010000000011011011100100110111101100111011100100010010100011111001010001100011000010110000000100000011011110110111000100000010011010110001101110001101111110110001001100101011100100010000000110010001101010101110000100000001100010011100000110101001101000010111000010000010011111100111000100110010000010101000101100110111001110010001000000111010001101000011001010010000001110011011101010110001101100011011001010110010101100100011010010110111001100010001000000110010001100101011000110110000101100100011001000011011100111010010001101100011100110010001010110000011100000110100001100101001000000110001100111111011011100111010001101001011011101011010101101001011000010110000100000000011001000110010001110101011000110110000100000100011010011000110001110000\n",
      "672\n"
     ]
    }
   ],
   "source": [
    "#######################\n",
    "# Step 5: Decode RM\n",
    "#######################\n",
    "\n",
    "temp_rxseqs = []\n",
    "for frame in rxseqs:\n",
    "    # frame = frame[:-8]\n",
    "    temp_frame = \"\"\n",
    "    count = 0\n",
    "    while(count < len(frame)):\n",
    "        message = string_to_array(frame[count:count+8])\n",
    "        decoded_msg = decode_message(message, valid_codewords)\n",
    "        temp_frame += array_to_string(decoded_msg)\n",
    "        count += 8\n",
    "    temp_frame += frame[count:]\n",
    "    temp_rxseqs.append(temp_frame)\n",
    "    print(temp_frame)\n",
    "\n",
    "rxseqs = temp_rxseqs\n",
    "# print(rxseqs)\n",
    "print(len(rxseqs[0]))"
   ]
  },
  {
   "cell_type": "code",
   "execution_count": 12,
   "id": "5071c4f1",
   "metadata": {},
   "outputs": [
    {
     "name": "stdout",
     "output_type": "stream",
     "text": [
      "crc: 1110100100000111 crc_rx: 0101111000010000\n",
      "crc: 0111011110100110 crc_rx: 0101100001101110\n",
      "crc: 0010001101010010 crc_rx: 1101110001010111\n",
      "crc: 0100110110011000 crc_rx: 1000110001110000\n",
      "Number of Failed Frames with Error Probability 0.1: --- 4 --- \n",
      "\n",
      "Failed Frames: 100.0% of 4 total frames recieved.\n"
     ]
    }
   ],
   "source": [
    "#######################\n",
    "# Step 5: Check CRC\n",
    "#######################\n",
    "\n",
    "# Create CRC for g(D) = [D16 + D12 + D5 + 1]\n",
    "crc_str = '10001000000100001' # divisor\n",
    "int_crc_str = int(crc_str,2)\n",
    "failed = 0\n",
    "total = 0\n",
    "\n",
    "for rxs in rxseqs:\n",
    "    crc_rx = rxs[-16:]\n",
    "    beginning = rxs[:-16] + \"0000000000000000\"\n",
    "    beginning = int(beginning,2)\n",
    "    crc = beginning % int_crc_str\n",
    "    crc = format(crc,'016b')\n",
    "    if len(crc) > 16:\n",
    "        crc = crc[-16:]\n",
    "    if crc != crc_rx:\n",
    "        print(\"crc: \"+str(crc)+\" crc_rx: \"+str(crc_rx))\n",
    "        failed += 1\n",
    "    total += 1\n",
    "\n",
    "print('Number of Failed Frames with Error Probability ' + str(prob) + ': --- ' + str(failed) + ' --- \\n')\n",
    "print('Failed Frames: ' + str((failed / total) * 100) + '%' + ' of ' + str(total) + ' total frames recieved.')"
   ]
  },
  {
   "cell_type": "code",
   "execution_count": 13,
   "id": "dd1a04d2",
   "metadata": {},
   "outputs": [
    {
     "name": "stdout",
     "output_type": "stream",
     "text": [
      "In 1253\" pramine®T St- La\bºHWV2\u0006ÖW&6\u0016çB\u0005v\u0017Ö\u0016â\u00047%÷r\u0006ÜQ",
      "an` hiq\"\u0000a#tor, Wi\u0001ciam Graen5af Eliot J , conceeHÇ\"æVB\u0006\u0016&ñgB\b@R\u0006Æ\u00166\u0002\u0006üb\u0006à!!3titut\u0019?ns of \b\u0019Ghe\u0012 lea\u0012\u001f\u0013HÆææq\u0006Fâ\u0003FR\u0006w&×zær\u0006ÖGvQ\u0014|St, led qhb\u0000bounding of \u0000g¥HZ\u00171\u0006æwFöâ\u0005V\"§f%'6G\u0006\u00035\u00000\u000e´t. Loui\u0003. @\u0000r\u0004b÷ th\u0005 0x40uÉ(W1\u0006\u0016æB\u0000S\u00002Â\u0007v\u0017b\u00072\u0006ö\u0002\u0000Ö\u0016pàxradts!fa\u001foded into St$pLo\u001a¦HwV'1Â\u0006&öô7F\u0016r\u0007FR\u0000\u0006÷\u0007\u0006\u0006\u0013Aæion \u000f\u0006 the 5ou`g cIt). Wi\u0003\u0006HF\u0007F@W6â\u0006æWv6V6³!2\u00166\u0016&R\u0006\u0012\u0004\u0007\"'76ær\u0006æVRB\u0006\u0016÷\"\u0006V@V6\u0017\u0006öâ\u0002Ò\u0002&÷F\u0006æG!7B\u0006\u0016Â\u0001G&\u001fÁAbninG cnd basic gene\"al c\n",
      "´\u0018Æ÷U'6W\u0002\u0002\"\u00006&æGV7FVB\u0006÷WG66@4D\\e µ6 n\u001frmal wor\u000b",
      "i.g\u0000houB3Ð/HRâ\u00026ò\u0007ER\u0006f'3â\u0006VGV\u0012\u0017Fºöæ\u0016HLl st%p of the y\u0002u\u000eg \u0007ashcÄiEfæwF¶â\u0005Fæ\u0006\u0017-&G\u0007v\u00172\u0007Fò\u0006^3sta\u0012Lish !a Evec`ne \u001brogr%\u001f(Æ\u0016\u0002\u0006öâ\u0004Ö7\u001bö&W\"\u0003#UÂ\u0003\u0013SBá\u0004üâd\u0015\u0016nr the succeedinb decadd7:FÇ2+\u0007\u0006R\u00063öçFëV\u0016\u0010\u0006FGV6\u0010F\n"
     ]
    }
   ],
   "source": [
    "#######################\n",
    "# Convert Back to Text\n",
    "#######################\n",
    "\n",
    "all_rx_bits = ''\n",
    "char_arr = []\n",
    "paragraph = ''\n",
    "i = 0\n",
    "\n",
    "for rxs in rxseqs:\n",
    "    if len(rxs[:-16]) < 200:\n",
    "        continue\n",
    "    else:\n",
    "        all_rx_bits += rxs[:-16]\n",
    "\n",
    "while i < len(all_rx_bits)-7:\n",
    "    char_arr.append(all_rx_bits[i:i+8])\n",
    "    i += 8\n",
    "\n",
    "for cb in char_arr:\n",
    "    character = chr(int(cb,2))\n",
    "    if (character!='~'):\n",
    "        paragraph += character\n",
    "\n",
    "print(paragraph)"
   ]
  },
  {
   "cell_type": "code",
   "execution_count": 14,
   "id": "86c8c42e",
   "metadata": {},
   "outputs": [],
   "source": [
    "# In 1853, prominent St. Louis merchant Wayman Crow and his pastor, William Greenleaf Eliot Jr., concerned about \n",
    "# the lack of institutions of higher learning in the growing midwest, led the founding of Washington University  \n",
    "# in St. Louis. During the 1840s and 50s, waves of immigrants flooded into St. Louis, boosting the population of \n",
    "# the young city. With these newcomers came a pressing need for education - both industrial training and basic \n",
    "# general courses - conducted outside of normal working hours. So the first educational step of the young \n",
    "# Washington University was to establish an evening program on October 22, 1854. Over the succeeding decades, \n",
    "# the continuing education program underwent many changes. The university flourished at its location in downtown \n",
    "# St. Louis for its first 50 years, growing from an evening program to an institution offering a full slate of \n",
    "# scientific, liberal arts and classical course offerings. In time, schools of law and fine arts were added. In \n",
    "# 1891, the school acquired the St. Louis Medical College to form a medical department, which merged with the \n",
    "# Missouri Medical College in 1899."
   ]
  }
 ],
 "metadata": {
  "kernelspec": {
   "display_name": "Python 3",
   "language": "python",
   "name": "python3"
  },
  "language_info": {
   "codemirror_mode": {
    "name": "ipython",
    "version": 3
   },
   "file_extension": ".py",
   "mimetype": "text/x-python",
   "name": "python",
   "nbconvert_exporter": "python",
   "pygments_lexer": "ipython3",
   "version": "3.8.8"
  }
 },
 "nbformat": 4,
 "nbformat_minor": 5
}
