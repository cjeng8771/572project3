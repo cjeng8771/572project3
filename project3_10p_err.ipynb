{
 "cells": [
  {
   "cell_type": "code",
   "execution_count": 1,
   "id": "e2b5dd76",
   "metadata": {},
   "outputs": [],
   "source": [
    "#######################\n",
    "# Project 3\n",
    "# ESE 572\n",
    "# Layer 2 Channel Coding\n",
    "#######################\n",
    "\n",
    "# Choose a probability of bit error to use when simulating the receiving end.\n",
    "\n",
    "prob = 0.1\n",
    "# prob = 0.01"
   ]
  },
  {
   "cell_type": "code",
   "execution_count": 2,
   "id": "2fc8fdf2",
   "metadata": {},
   "outputs": [],
   "source": [
    "#######################\n",
    "# Step 1\n",
    "#######################\n",
    "\n",
    "# Function to convert string to binary using ASCII encoding\n",
    "def string_to_binary(string):\n",
    "    binary = ''\n",
    "    binaryS = ''\n",
    "    binaryC = ''\n",
    "    counter = 0\n",
    "    for char in string:\n",
    "        ascii_code = ord(char) # Get ASCII code of character\n",
    "        if counter == 24:\n",
    "            binary += format(ascii_code, '08b')\n",
    "            binaryS += format(ascii_code, '08b') + ' '\n",
    "            binaryC += format(ascii_code, '08b') + '\\n'\n",
    "            counter = 0\n",
    "        else:\n",
    "            binary += format(ascii_code, '08b')\n",
    "            binaryS += format(ascii_code, '08b') + ' '\n",
    "            binaryC += format(ascii_code, '08b')\n",
    "            counter += 1\n",
    "    return binary, binaryS, binaryC\n",
    "\n",
    "# Load the document\n",
    "filename = 'input.txt'\n",
    "text = ''\n",
    "with open(filename,'r') as i:\n",
    "    text += i.readline()\n",
    "    \n",
    "binary_data, binaryS_data, binaryC_data = string_to_binary(text)\n",
    "\n",
    "# binary_data is single line\n",
    "# binaryS_data contain spaces to delimitate each character\n",
    "# binaryC_data is split as chunks of 200 bits\n"
   ]
  },
  {
   "cell_type": "code",
   "execution_count": 3,
   "id": "1e02efa6",
   "metadata": {},
   "outputs": [
    {
     "name": "stdout",
     "output_type": "stream",
     "text": [
      "216\n"
     ]
    }
   ],
   "source": [
    "#######################\n",
    "# Step 2\n",
    "#######################\n",
    "\n",
    "# Create CRC for g(D) = [D16 + D12 + D5 + 1]\n",
    "crc_str = '10001000000100001' # divisor\n",
    "int_crc_str = int(crc_str,2)\n",
    "frames = []\n",
    "\n",
    "binary_chunks = binaryC_data.split('\\n')\n",
    "for chunk in binary_chunks[:-1]:\n",
    "    temp = chunk + \"0000000000000000\"\n",
    "    temp = int(temp,2)\n",
    "    crc = temp % int_crc_str\n",
    "    crc = format(crc, '016b')\n",
    "    if len(crc) > 16:\n",
    "        crc = crc[-16:]\n",
    "    frames.append(chunk + crc)\n",
    "\n",
    "print(len(frames[0]))"
   ]
  },
  {
   "cell_type": "code",
   "execution_count": 8,
   "id": "1521eaff",
   "metadata": {},
   "outputs": [
    {
     "name": "stdout",
     "output_type": "stream",
     "text": [
      "Encoded code: [1 0 0 1 1 0 0 1]\n",
      "\n",
      "Decoded message: [0 0 1 1]\n",
      "648\n"
     ]
    }
   ],
   "source": [
    "#######################\n",
    "# Step 3\n",
    "#######################\n",
    "\n",
    "#Example RM:\n",
    "import numpy as np\n",
    "\n",
    "def encode_message(msg, matrix):\n",
    "    code = np.mod(np.dot(msg, matrix), 2)\n",
    "    return code\n",
    "\n",
    "def decode_message(code, matrix):\n",
    "    syndrome = np.mod(np.dot(code, matrix.T), 2)\n",
    "    if np.count_nonzero(syndrome) == 0:\n",
    "        # No errors detected\n",
    "        return code[:4]\n",
    "    else:\n",
    "        # Single error detected, correct it\n",
    "        error_pos = np.dot(syndrome, 2 ** np.arange(syndrome.size))\n",
    "        corrected_code = code.copy()\n",
    "        corrected_code[error_pos] = (corrected_code[error_pos] + 1) % 2\n",
    "        return corrected_code[:4]\n",
    "\n",
    "en = np.array([[1,1,1,1,1,1,1,1],\n",
    "              [0,0,0,0,1,1,1,1],\n",
    "              [0,0,1,1,0,0,1,1],\n",
    "              [0,1,0,1,0,1,0,1]])\n",
    "\n",
    "de = np.array([[0,1,0,1,0,1,0,1],\n",
    "              [1,1,1,1,0,0,0,0],\n",
    "              [1,1,0,0,1,1,0,0],\n",
    "              [1,1,1,1,1,1,1,1]])\n",
    "\n",
    "msg = np.array([1, 0, 1, 1])\n",
    "code = encode_message(msg, en)\n",
    "print(\"Encoded code:\", code)\n",
    "print()\n",
    "\n",
    "received_code = np.array([0, 0, 0, 1, 1, 1, 1, 0])\n",
    "decoded_msg = decode_message(received_code, de)\n",
    "print(\"Decoded message:\", decoded_msg)\n",
    "\n",
    "\n",
    "#End Example\n",
    "\n",
    "\n",
    "def fec_string(input_string):\n",
    "    output_string = \"\"\n",
    "    for char in input_string:\n",
    "        if char != '\\n':\n",
    "            output_string += char * 3\n",
    "        else:\n",
    "            output_string += char\n",
    "    return output_string\n",
    "\n",
    "binaryFEC = []\n",
    "for frame in frames:\n",
    "    binaryFEC.append(fec_string(frame))\n",
    "    \n",
    "print(len(binaryFEC[0]))"
   ]
  },
  {
   "cell_type": "code",
   "execution_count": 9,
   "id": "d728b4ff",
   "metadata": {},
   "outputs": [
    {
     "name": "stdout",
     "output_type": "stream",
     "text": [
      "bits stuffed: 6\n",
      "0001111111111111111110000001110000001110000001110001111110001111111110000000001110000000000000000000001111110000000001110000001111111110000000000000001111110001110001110000001111110000001111110000001110001111110000000000001110000000000000000001111111110000000000000001111111110000001110000001111110001111111111110001111110001111110001110001111110001110000001110001111110001111111110000001111110000001110001110001111110001111111110000001111111110001110000000000001110000000000000000001110001110000001111110001111111110001110000000000001110001111111110000000001110000000000000000001110000001111110000000001111110001111111111111111011111111111000000000111000111111111000111000\n"
     ]
    }
   ],
   "source": [
    "#######################\n",
    "# Step 4\n",
    "#######################\n",
    "\n",
    "# flag = '01111110'\n",
    "flag = '000111111111111111111000' # tripled\n",
    "framed_frames = []\n",
    "bitstuff=0\n",
    "for binFEC in binaryFEC:\n",
    "    i = 0\n",
    "    \n",
    "    while(i <= (len(binFEC) - 18)):\n",
    "        if binFEC[i:i+17] == '11111111111111111':\n",
    "            binFEC = binFEC[:i+16] + '0' + binFEC[i+16:] # bit stuff after any string of five 1s\n",
    "            bitstuff+=1\n",
    "        i += 3\n",
    "    framed_frames.append(flag + binFEC)\n",
    "    \n",
    "framed_frames.append(flag) # after last FEC frame, insert another flag\n",
    "print('bits stuffed: '+str(bitstuff))\n",
    "print(framed_frames[0])"
   ]
  },
  {
   "cell_type": "code",
   "execution_count": 10,
   "id": "6c12baaf",
   "metadata": {},
   "outputs": [
    {
     "name": "stdout",
     "output_type": "stream",
     "text": [
      "30270\n"
     ]
    }
   ],
   "source": [
    "#######################\n",
    "# Sequence to Transmit\n",
    "#######################\n",
    "\n",
    "sequence = ''\n",
    "for fram in framed_frames:\n",
    "    sequence += fram\n",
    "    # print(len(fram))\n",
    "    \n",
    "print(len(sequence))"
   ]
  },
  {
   "cell_type": "code",
   "execution_count": 11,
   "id": "589856a0",
   "metadata": {},
   "outputs": [
    {
     "name": "stdout",
     "output_type": "stream",
     "text": [
      "3061\n"
     ]
    }
   ],
   "source": [
    "#######################\n",
    "# Step 5: Error\n",
    "#######################\n",
    "\n",
    "import random\n",
    "\n",
    "lim = {0.1: 9,\n",
    "       0.01: 99}\n",
    "\n",
    "rxbits = ''\n",
    "un = 0\n",
    "\n",
    "for bit in sequence:\n",
    "    rnum = random.randint(0,lim[prob])\n",
    "    if rnum == 0: # error bit\n",
    "        un += 1\n",
    "        if bit == '1':\n",
    "            bit = '0'\n",
    "        else:\n",
    "            bit = '1'\n",
    "    rxbits += bit\n",
    "print(un)"
   ]
  },
  {
   "cell_type": "code",
   "execution_count": 12,
   "id": "2cd09a32",
   "metadata": {},
   "outputs": [
    {
     "name": "stdout",
     "output_type": "stream",
     "text": [
      "111111111111111101\n",
      "111111111111111111\n",
      "111111111111111101\n",
      "111111111111111110\n"
     ]
    }
   ],
   "source": [
    "#######################\n",
    "# Step 5: Unstuffing\n",
    "#######################\n",
    "\n",
    "# stuff_seq = '000111110'\n",
    "\n",
    "def unstuff(bits):\n",
    "    i = 0\n",
    "    while i < len(bits)-3:\n",
    "        #print(bits[i:i+19])\n",
    "        if bits[i:i+18] == '111111111111111101':\n",
    "            print(bits[i:i+18])\n",
    "            bits = bits[:i+16] + bits[i+17:] # remove bit stuffing\n",
    "            print(bits[i:i+18])\n",
    "            i += 19\n",
    "        else:\n",
    "            i += 3\n",
    "    return bits\n",
    "\n",
    "rxbits = unstuff(rxbits)\n",
    "# rxbits, un = unstuff(sequence)"
   ]
  },
  {
   "cell_type": "code",
   "execution_count": 13,
   "id": "ca81846e",
   "metadata": {},
   "outputs": [
    {
     "name": "stdout",
     "output_type": "stream",
     "text": [
      "BITS ERRORS : 4229\n",
      "\n"
     ]
    }
   ],
   "source": [
    "#######################\n",
    "# Step 5: Fixing\n",
    "#######################\n",
    "\n",
    "def fix_errors(bits):\n",
    "    i = 0\n",
    "    un = 0\n",
    "    while i < len(bits)-2:\n",
    "        if bits[i] != bits[i+1]:\n",
    "            un += 1\n",
    "            # second bit wrong\n",
    "            if bits[i] == bits[i+2]:\n",
    "                bits[i+1] = bits[i]\n",
    "            else:\n",
    "                # first bit wrong\n",
    "                bits[i] = bits[i+1]\n",
    "        else:\n",
    "            if bits[i+1] != bits[i+2]:\n",
    "                # third bit wrong\n",
    "                un += 1\n",
    "                bits[i+2] = bits[i]\n",
    "        i += 3\n",
    "    return bits, un\n",
    "\n",
    "cor_bits, un = fix_errors(list(rxbits))\n",
    "print('BITS ERRORS : ' + str(un))\n",
    "corrected_bits = ''\n",
    "\n",
    "for b in cor_bits:\n",
    "    corrected_bits += b\n",
    "    \n",
    "# print(corrected_bits)\n",
    "# incorrect bit flips should be fixed\n",
    "\n",
    "# finding flags to reseparate frames\n",
    "i = 0\n",
    "start = -1\n",
    "end = -1\n",
    "new_frames = []\n",
    "flag_flag = 0\n",
    "\n",
    "while (i < len(corrected_bits)):\n",
    "    if corrected_bits[i:i+24] == flag:\n",
    "        flag_flag = 1\n",
    "        if start != -1:\n",
    "            end = i - 1\n",
    "            temp = corrected_bits[start:end]\n",
    "            new_frames.append(temp)\n",
    "            start = i\n",
    "        else:\n",
    "            temp = corrected_bits[:i]\n",
    "            new_frames.append(temp)\n",
    "            start = i\n",
    "    if flag_flag:\n",
    "        i += 24\n",
    "        flag_flag = 0\n",
    "    else:\n",
    "        i += 3\n",
    "new_frames.append(corrected_bits[start:])\n",
    "\n",
    "print(new_frames[0])\n",
    "# frames separated, unstuffed but need :: untripled, CRC checked, and then converted to text"
   ]
  },
  {
   "cell_type": "code",
   "execution_count": 14,
   "id": "aea41d51",
   "metadata": {},
   "outputs": [
    {
     "name": "stdout",
     "output_type": "stream",
     "text": [
      "223\n",
      "0111111001100001011011100110010000100000011010000110100101110011001000000111000000100001011100110111010001101111011100100010110000100000010101110110100101101100011001000110100101100001011011010010000001000111010111101110000\n",
      "0111111001001001001011100010000000110001001110000011011100110011001011000010000001110000011100100110111101101101011010010110111001100101011011100111000000100000010100110111010000101110001000000100110001101111111110001111101\n"
     ]
    }
   ],
   "source": [
    "#######################\n",
    "# Step 5: Un - triple\n",
    "#######################\n",
    "\n",
    "def anti_triplet(frame):\n",
    "    compressed_frame = ''\n",
    "    i = 0\n",
    "    while i < len(frame):\n",
    "        if i+2 < len(frame) and frame[i] == frame[i+1] == frame[i+2]:\n",
    "            compressed_frame += frame[i]\n",
    "        i += 3\n",
    "    return compressed_frame\n",
    "\n",
    "rxseqs = []\n",
    "for nf in new_frames:\n",
    "    rxseqs.append(anti_triplet(nf))\n",
    "\n",
    "rxseqs = rxseqs[1:-1]\n",
    "print(len(rxseqs[-1]))\n",
    "print(rxseqs[2])\n",
    "print(rxseqs[0])\n",
    "# need :: CRC checked, and then converted to text"
   ]
  },
  {
   "cell_type": "code",
   "execution_count": 15,
   "id": "0ca26406",
   "metadata": {},
   "outputs": [],
   "source": [
    "#######################\n",
    "# Step 5: Remove flag\n",
    "#######################\n",
    "i = 0\n",
    "for rxs in rxseqs:\n",
    "    j=0\n",
    "    rxs = rxs[8:]\n",
    "    while j <len(rxs):\n",
    "        if rxs[j:j+8]=='01111110':\n",
    "            rxs=rxs[j+8:]\n",
    "            print('here')\n",
    "        j+=1\n",
    "    rxseqs[i]=rxs\n",
    "    i+=1\n",
    "    \n",
    "#print(rxseqs)"
   ]
  },
  {
   "cell_type": "code",
   "execution_count": 16,
   "id": "5071c4f1",
   "metadata": {},
   "outputs": [
    {
     "name": "stdout",
     "output_type": "stream",
     "text": [
      "crc: 1100110101010110 crc_rx: 1111110001111101\n",
      "crc: 0000111000011110 crc_rx: 0001011011100010\n",
      "crc: 1110000000110011 crc_rx: 1010111101110000\n",
      "crc: 1011101100010100 crc_rx: 0111100101010001\n",
      "crc: 0011100100011111 crc_rx: 0000011110001111\n",
      "crc: 1111110101110100 crc_rx: 1101110011010000\n",
      "crc: 1011111110110111 crc_rx: 1011001111010010\n",
      "crc: 1011010010011100 crc_rx: 1000000001110101\n",
      "crc: 1011000110000101 crc_rx: 1000011100000011\n",
      "crc: 0000100101010100 crc_rx: 0000111100110100\n",
      "crc: 0000100110010101 crc_rx: 1000000111100101\n",
      "crc: 0010101101101111 crc_rx: 1000110000100111\n",
      "crc: 0010000101111111 crc_rx: 0111101000101101\n",
      "crc: 0000000000000000 crc_rx: 1010100\n",
      "crc: 0001111000000110 crc_rx: 1000000001110001\n",
      "crc: 0110010001101001 crc_rx: 1111111000001010\n",
      "crc: 0000101000100111 crc_rx: 1000010101011010\n",
      "crc: 0110110000101110 crc_rx: 0000000110100010\n",
      "crc: 1011010101100000 crc_rx: 1110101100010111\n",
      "crc: 0111110001111011 crc_rx: 1011010111000100\n",
      "crc: 1011110111000001 crc_rx: 1110001001110100\n",
      "crc: 0110000000111100 crc_rx: 0001001010001111\n",
      "crc: 1110101111011000 crc_rx: 1011001010000001\n",
      "crc: 0011011000001011 crc_rx: 1000101110011111\n",
      "crc: 0001000110010111 crc_rx: 0100011100011110\n",
      "crc: 0100100001011001 crc_rx: 1111111110011101\n",
      "crc: 0011010110110000 crc_rx: 1011101101110011\n",
      "crc: 1011010001100100 crc_rx: 0011111110111001\n",
      "crc: 1111111101100010 crc_rx: 1010111000110111\n",
      "crc: 1110001101010000 crc_rx: 1011011100110100\n",
      "crc: 0111111110110101 crc_rx: 1001100000110001\n",
      "crc: 0000111110001100 crc_rx: 1111011100000101\n",
      "crc: 0001100001001101 crc_rx: 0001000000110000\n",
      "crc: 0000100100000010 crc_rx: 1010000001110001\n",
      "crc: 1001101101111001 crc_rx: 0000101100011110\n",
      "crc: 1101001110100111 crc_rx: 0000101111111001\n",
      "crc: 0000001110011101 crc_rx: 0011110111011010\n",
      "crc: 1110011110000011 crc_rx: 0010001111100111\n",
      "crc: 0110111111011010 crc_rx: 0011011101111010\n",
      "crc: 0000001101100101 crc_rx: 0111001101100001\n",
      "crc: 0000110100110110 crc_rx: 0111101000111001\n",
      "Number of Failed Frames with Error Probability 0.1: --- 41 --- \n",
      "\n",
      "Failed Frames: 100.0% of 41 total frames recieved.\n"
     ]
    }
   ],
   "source": [
    "#######################\n",
    "# Step 5: Check CRC\n",
    "#######################\n",
    "\n",
    "# Create CRC for g(D) = [D16 + D12 + D5 + 1]\n",
    "crc_str = '10001000000100001' # divisor\n",
    "int_crc_str = int(crc_str,2)\n",
    "failed = 0\n",
    "total = 0\n",
    "\n",
    "for rxs in rxseqs:\n",
    "    crc_rx = rxs[-16:]\n",
    "    beginning = rxs[:-16] + \"0000000000000000\"\n",
    "    beginning = int(beginning,2)\n",
    "    crc = beginning % int_crc_str\n",
    "    crc = format(crc,'016b')\n",
    "    if len(crc) > 16:\n",
    "        crc = crc[-16:]\n",
    "    if crc != crc_rx:\n",
    "        print(\"crc: \"+str(crc)+\" crc_rx: \"+str(crc_rx))\n",
    "        failed += 1\n",
    "    total += 1\n",
    "\n",
    "print('Number of Failed Frames with Error Probability ' + str(prob) + ': --- ' + str(failed) + ' --- \\n')\n",
    "print('Failed Frames: ' + str((failed / total) * 100) + '%' + ' of ' + str(total) + ' total frames recieved.')"
   ]
  },
  {
   "cell_type": "code",
   "execution_count": 17,
   "id": "dd1a04d2",
   "metadata": {},
   "outputs": [
    {
     "name": "stdout",
     "output_type": "stream",
     "text": [
      "I. 1873, prominenp St. Loucs\u0000mgrclant Wayman Cr/g and his p!stor, Wildiam Green,eaf Eliot Jr>( bonceiNrnmd about the lack oæ institutions o& jIcher learniNg in thw growing iodwest, lad the\u0000fouldinw of Washi.gtn University yn St. L}is. Dusino0the 0840uÉns and 50s, wavas mf iemigòan|s floodet into St® Lo\u001a¦^uis.\"boosting t(å pgx5maTioj of the }ung kity\u000e W)lh`thEsm`NawCoìdrw c`mm Ñ prdssyng nåe` æor\u0000gDcAatijing and basic general courqes - S/Nducted m}tside of n/bmal workhne hotrs. So the fkrst(edgc`tiooal 3tex\"of the ù/unw WashInçton Universét9 was To0ag8svcblish an(mvaning ppogrñ3ã³\u0001£C)\u0003ª\u001b9+!Iq8\u0003#;\u001b\u000b",
      "#)´apon prg'óaG wNde#w%o\" vaGùuF:\u0000cxm/'5s&thg\u0000u.mrus3!ty\u0010aVÞ\u0000ãÞ@ÈÞæÜhÞîÜ\u0010¦h\\\u0001ÏnÚ¦@Ìîr i|v Fkrsx= `yegrrl góe!aî÷ô)tupiN nb\u0016\u0003þnDring A\u0000duìl sÜáåe vg¡wengw. In time, sch/o,s`/F la÷ ánd Fine°arts werE adveö. Mop0¸91\u000e The ich/gl $>es9=mòe` tdg \u0013t> \f",
      "'uHs Eõ¢Î>dx#!l Cg|,ew% tmrxm  4e,@þe`)s¡| de0asøv,0wøis(\u0000vÍüm5zged w)t( z(e0\u0004Asïwsq\u0000Gedi#aì \u0013o,lwgq hj\u0000188¹/\u0002\n"
     ]
    }
   ],
   "source": [
    "#######################\n",
    "# Convert Back to Text\n",
    "#######################\n",
    "\n",
    "all_rx_bits = ''\n",
    "char_arr = []\n",
    "paragraph = ''\n",
    "i = 0\n",
    "\n",
    "for rxs in rxseqs:\n",
    "    # print(rxs)\n",
    "    if len(rxs[:-15]) < 200:\n",
    "        continue\n",
    "    else:\n",
    "        all_rx_bits += rxs[:-15]\n",
    "    \n",
    "while i < len(all_rx_bits)-7:\n",
    "    char_arr.append(all_rx_bits[i:i+8])\n",
    "    i += 8\n",
    "\n",
    "for cb in char_arr:\n",
    "    character = chr(int(cb,2))\n",
    "    if (character!='~'):\n",
    "        paragraph += character\n",
    "\n",
    "print(paragraph)"
   ]
  },
  {
   "cell_type": "code",
   "execution_count": 14,
   "id": "86c8c42e",
   "metadata": {},
   "outputs": [],
   "source": [
    "# In 1853, prominent St. Louis merchant Wayman Crow and his pastor, William Greenleaf Eliot Jr., concerned about \n",
    "# the lack of institutions of higher learning in the growing midwest, led the founding of Washington University  \n",
    "# in St. Louis. During the 1840s and 50s, waves of immigrants flooded into St. Louis, boosting the population of \n",
    "# the young city. With these newcomers came a pressing need for education - both industrial training and basic \n",
    "# general courses - conducted outside of normal working hours. So the first educational step of the young \n",
    "# Washington University was to establish an evening program on October 22, 1854. Over the succeeding decades, \n",
    "# the continuing education program underwent many changes. The university flourished at its location in downtown \n",
    "# St. Louis for its first 50 years, growing from an evening program to an institution offering a full slate of \n",
    "# scientific, liberal arts and classical course offerings. In time, schools of law and fine arts were added. In \n",
    "# 1891, the school acquired the St. Louis Medical College to form a medical department, which merged with the \n",
    "# Missouri Medical College in 1899."
   ]
  },
  {
   "cell_type": "code",
   "execution_count": null,
   "id": "cc82d761",
   "metadata": {},
   "outputs": [],
   "source": []
  }
 ],
 "metadata": {
  "kernelspec": {
   "display_name": "Python 3 (ipykernel)",
   "language": "python",
   "name": "python3"
  },
  "language_info": {
   "codemirror_mode": {
    "name": "ipython",
    "version": 3
   },
   "file_extension": ".py",
   "mimetype": "text/x-python",
   "name": "python",
   "nbconvert_exporter": "python",
   "pygments_lexer": "ipython3",
   "version": "3.9.12"
  }
 },
 "nbformat": 4,
 "nbformat_minor": 5
}
