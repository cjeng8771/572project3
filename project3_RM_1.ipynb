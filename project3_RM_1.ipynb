{
 "cells": [
  {
   "cell_type": "code",
   "execution_count": 1,
   "id": "e2b5dd76",
   "metadata": {},
   "outputs": [],
   "source": [
    "#######################\n",
    "# Project 3\n",
    "# ESE 572\n",
    "# Layer 2 Channel Coding\n",
    "#######################\n",
    "\n",
    "# Choose a probability of bit error to use when simulating the receiving end.\n",
    "\n",
    "# prob = 0.1\n",
    "prob = 0.01"
   ]
  },
  {
   "cell_type": "code",
   "execution_count": 2,
   "id": "2fc8fdf2",
   "metadata": {},
   "outputs": [],
   "source": [
    "#######################\n",
    "# Step 1\n",
    "#######################\n",
    "\n",
    "# Function to convert string to binary using ASCII encoding\n",
    "def string_to_binary(string):\n",
    "    binary = ''\n",
    "    binaryS = ''\n",
    "    binaryC = ''\n",
    "    counter = 0\n",
    "    for char in string:\n",
    "        ascii_code = ord(char) # Get ASCII code of character\n",
    "        if counter == 24:\n",
    "            binary += format(ascii_code, '08b')\n",
    "            binaryS += format(ascii_code, '08b') + ' '\n",
    "            binaryC += format(ascii_code, '08b') + '\\n'\n",
    "            counter = 0\n",
    "        else:\n",
    "            binary += format(ascii_code, '08b')\n",
    "            binaryS += format(ascii_code, '08b') + ' '\n",
    "            binaryC += format(ascii_code, '08b')\n",
    "            counter += 1\n",
    "    return binary, binaryS, binaryC\n",
    "\n",
    "# Load the document\n",
    "filename = 'input.txt'\n",
    "text = ''\n",
    "with open(filename,'r') as i:\n",
    "    text += i.readline()\n",
    "    \n",
    "binary_data, binaryS_data, binaryC_data = string_to_binary(text)\n",
    "\n",
    "# binary_data is single line\n",
    "# binaryS_data contain spaces to delimitate each character\n",
    "# binaryC_data is split as chunks of 200 bits\n"
   ]
  },
  {
   "cell_type": "code",
   "execution_count": 3,
   "id": "1e02efa6",
   "metadata": {},
   "outputs": [
    {
     "name": "stdout",
     "output_type": "stream",
     "text": [
      "010010010110111000100000001100010011100000110101001100110010110000100000011100000111001001101111011011010110100101101110011001010110111001110100001000000101001101110100001011100010000001001100011011111111100010111010\n"
     ]
    }
   ],
   "source": [
    "#######################\n",
    "# Step 2\n",
    "#######################\n",
    "\n",
    "# Create CRC for g(D) = [D16 + D12 + D5 + 1]\n",
    "crc_str = '10001000000100001' # divisor\n",
    "int_crc_str = int(crc_str,2)\n",
    "frames = []\n",
    "\n",
    "binary_chunks = binaryC_data.split('\\n')\n",
    "for chunk in binary_chunks[:-1]:\n",
    "    temp = chunk + \"0000000000000000\"\n",
    "    temp = int(temp,2)\n",
    "    crc = temp % int_crc_str\n",
    "    crc = format(crc, '016b')\n",
    "    if len(crc) > 16:\n",
    "        crc = crc[-16:]\n",
    "    frames.append(chunk + crc)\n",
    "\n",
    "print((frames[0]))"
   ]
  },
  {
   "cell_type": "code",
   "execution_count": 4,
   "id": "3e523bff",
   "metadata": {},
   "outputs": [
    {
     "name": "stdout",
     "output_type": "stream",
     "text": [
      "[array([0, 0, 0, 0, 0, 0, 0, 0]), array([0, 1, 0, 1, 0, 1, 0, 1]), array([0, 0, 1, 1, 0, 0, 1, 1]), array([0, 1, 1, 0, 0, 1, 1, 0]), array([0, 0, 0, 0, 1, 1, 1, 1]), array([0, 1, 0, 1, 1, 0, 1, 0]), array([0, 0, 1, 1, 1, 1, 0, 0]), array([0, 1, 1, 0, 1, 0, 0, 1]), array([1, 1, 1, 1, 1, 1, 1, 1]), array([1, 0, 1, 0, 1, 0, 1, 0]), array([1, 1, 0, 0, 1, 1, 0, 0]), array([1, 0, 0, 1, 1, 0, 0, 1]), array([1, 1, 1, 1, 0, 0, 0, 0]), array([1, 0, 1, 0, 0, 1, 0, 1]), array([1, 1, 0, 0, 0, 0, 1, 1]), array([1, 0, 0, 1, 0, 1, 1, 0])]\n",
      "Sent Message: [0 1 1 1]\n",
      "\n",
      "Encoded code: [0 1 1 0 1 0 0 1]\n",
      "\n",
      "Decoded message: [0, 1, 1, 1]\n",
      "432\n"
     ]
    }
   ],
   "source": [
    "#######################\n",
    "# Step 3\n",
    "#######################\n",
    "## Channel Coding **NEW**\n",
    "\n",
    "import numpy as np\n",
    "\n",
    "def encode_message(msg, matrix):\n",
    "    code = np.mod(np.dot(msg, matrix), 2)\n",
    "    return code\n",
    "\n",
    "def decode_message(code, valid_codewords):\n",
    "    incorrect_vec = []\n",
    "    incorrect = 0\n",
    "    for codeword in valid_codewords:\n",
    "        for ind in range(len(codeword)):\n",
    "            if codeword[ind] != code[ind]:\n",
    "                incorrect += 1\n",
    "        incorrect_vec.append(incorrect)\n",
    "        incorrect = 0\n",
    "    closest = np.min(incorrect_vec)\n",
    "    closest = np.where(incorrect_vec == closest)[0][0]\n",
    "    decoded_msg = valid_data[closest]\n",
    "    return decoded_msg\n",
    "\n",
    "G = np.array([[1,1,1,1,1,1,1,1],\n",
    "              [0,0,0,0,1,1,1,1],\n",
    "              [0,0,1,1,0,0,1,1],\n",
    "              [0,1,0,1,0,1,0,1]])\n",
    "\n",
    "valid_data = [[0,0,0,0], [0,0,0,1], [0,0,1,0], [0,0,1,1],\n",
    "              [0,1,0,0], [0,1,0,1], [0,1,1,0], [0,1,1,1],\n",
    "              [1,0,0,0], [1,0,0,1], [1,0,1,0], [1,0,1,1],\n",
    "              [1,1,0,0], [1,1,0,1], [1,1,1,0], [1,1,1,1]]\n",
    "\n",
    "valid_codewords = []\n",
    "for data in valid_data:\n",
    "    valid_codewords.append(encode_message(data,G))\n",
    "print(valid_codewords)\n",
    "\n",
    "############ Example ############\n",
    "msg = np.array([0, 1, 1, 1])\n",
    "print(\"Sent Message:\", msg)\n",
    "print()\n",
    "\n",
    "code = encode_message(msg, G)\n",
    "print(\"Encoded code:\", code)\n",
    "print()\n",
    "\n",
    "decoded_msg = decode_message(code, valid_codewords)\n",
    "print(\"Decoded message:\", decoded_msg)\n",
    "############ End Example ############\n",
    "\n",
    "def array_to_string(array):\n",
    "    output = \"\"\n",
    "    for each in array:\n",
    "        output += str(each)\n",
    "    return output\n",
    "\n",
    "def string_to_array(string):\n",
    "    output = []\n",
    "    for each in string:\n",
    "        output.append(int(each))\n",
    "    output = np.array(output)\n",
    "    return output\n",
    "\n",
    "def RM_string(input_string):\n",
    "    output_string = \"\"\n",
    "    ind = 0\n",
    "    while(ind <= len(input_string)):\n",
    "        dat = input_string[ind:ind+4]\n",
    "        data_string = string_to_array(dat)\n",
    "        if data_string.size != 0:\n",
    "            data_string = data_string.reshape((1,4))\n",
    "            encoded = encode_message(data_string,G)[0]\n",
    "            output_string += array_to_string(encoded)\n",
    "        else:\n",
    "            output_string += str(dat[-1:])\n",
    "        ind += 4\n",
    "    return output_string\n",
    "\n",
    "binaryRM = []\n",
    "for frame in frames:\n",
    "    binaryRM.append(RM_string(frame))\n",
    "    \n",
    "print(len(binaryRM[0]))"
   ]
  },
  {
   "cell_type": "code",
   "execution_count": 5,
   "id": "d728b4ff",
   "metadata": {},
   "outputs": [
    {
     "name": "stdout",
     "output_type": "stream",
     "text": [
      "bits stuffed: 0\n",
      "000111111111111111111000000011111010101000111100110000110011001100000000011001100101010101100110111111110110011001011010011001100110011000110011111100000011001100000000011010010000000001101001001100110011110010010110001111001010010100111100101010100011110011000011001111000101101000111100110000110110100100001111001100110000000001011010011001100110100100001111001100111100001100110011000000000000111111110000001111001001011010010110111111111001100111001100\n"
     ]
    }
   ],
   "source": [
    "#######################\n",
    "# Step 4\n",
    "#######################\n",
    "\n",
    "# flag = '01111110'\n",
    "flag = '000111111111111111111000' # tripled\n",
    "framed_frames = []\n",
    "bitstuff=0\n",
    "for binRM in binaryRM:\n",
    "    i = 0\n",
    "    \n",
    "    while(i <= (len(binRM) - 18)):\n",
    "        if binRM[i:i+18] == '111111111111111111':\n",
    "            binRM = binRM[:i+17] + '0' + binRM[i+17:] # bit stuff after any string of five 1s\n",
    "            bitstuff+=1\n",
    "            i += 18\n",
    "        else:\n",
    "            i += 1\n",
    "    framed_frames.append(flag + binRM)\n",
    "    \n",
    "framed_frames.append(flag) # after last FEC frame, insert another flag\n",
    "print('bits stuffed: '+str(bitstuff))\n",
    "print(framed_frames[0])"
   ]
  },
  {
   "cell_type": "code",
   "execution_count": 6,
   "id": "6c12baaf",
   "metadata": {},
   "outputs": [
    {
     "name": "stdout",
     "output_type": "stream",
     "text": [
      "20544\n"
     ]
    }
   ],
   "source": [
    "#######################\n",
    "# Sequence to Transmit\n",
    "#######################\n",
    "\n",
    "sequence = ''\n",
    "for fram in framed_frames:\n",
    "    sequence += fram\n",
    "    # print(len(fram))\n",
    "    \n",
    "print(len(sequence))"
   ]
  },
  {
   "cell_type": "code",
   "execution_count": 7,
   "id": "589856a0",
   "metadata": {},
   "outputs": [
    {
     "name": "stdout",
     "output_type": "stream",
     "text": [
      "Number added random errors: 231\n",
      "20544\n"
     ]
    }
   ],
   "source": [
    "#######################\n",
    "# Step 5: Error\n",
    "#######################\n",
    "\n",
    "import random\n",
    "\n",
    "lim = {0.1: 9,\n",
    "       0.01: 99}\n",
    "\n",
    "rxbits = ''\n",
    "errors = 0\n",
    "\n",
    "for bit in sequence:\n",
    "    rnum = random.randint(0,lim[prob])\n",
    "    # rnum = 1 # no errors\n",
    "    if rnum == 0: # error bit\n",
    "        errors += 1\n",
    "        if bit == '1':\n",
    "            bit = '0'\n",
    "        else:\n",
    "            bit = '1'\n",
    "    rxbits += bit\n",
    "print(\"Number added random errors:\", errors)\n",
    "print(len(rxbits))"
   ]
  },
  {
   "cell_type": "code",
   "execution_count": 8,
   "id": "2cd09a32",
   "metadata": {},
   "outputs": [
    {
     "name": "stdout",
     "output_type": "stream",
     "text": [
      "20544\n"
     ]
    }
   ],
   "source": [
    "#######################\n",
    "# Step 5: Unstuffing\n",
    "#######################\n",
    "\n",
    "def unstuff(bits):\n",
    "    i = 0\n",
    "    while i < len(bits)-3:\n",
    "        #print(bits[i:i+19])\n",
    "        if bits[i:i+19] == '1111111111111111101':\n",
    "            print(bits[i:i+19])\n",
    "            bits = bits[:i+17] + bits[i+18:] # remove bit stuffing\n",
    "            print(bits[i:i+19])\n",
    "            i += 18\n",
    "        else:\n",
    "            i += 1\n",
    "    return bits\n",
    "\n",
    "rxbits = unstuff(rxbits)\n",
    "print(len(rxbits))"
   ]
  },
  {
   "cell_type": "code",
   "execution_count": 9,
   "id": "ca81846e",
   "metadata": {},
   "outputs": [
    {
     "name": "stdout",
     "output_type": "stream",
     "text": [
      "000111111111111111111000000011111110101000111100110000110011001100000000011011100101010101100110111111110110011001011010011001100110011000110001111100000011001100000000011010010000000001101001001100110011110010010110001111001010010100111100101010100011110011000011001111000101101000111100110000110110100000001101001100110000100001011010011001100110100100001111001100111100001100110011000000000000111111110000001111001001011010010110111111111001100111001100\n",
      "456\n"
     ]
    }
   ],
   "source": [
    "#######################\n",
    "# Step 5: Fixing\n",
    "#######################\n",
    "\n",
    "corrected_bits = rxbits\n",
    "# finding flags to reseparate frames\n",
    "i = 0\n",
    "start = -1\n",
    "end = -1\n",
    "new_frames = []\n",
    "flag_flag = 0\n",
    "\n",
    "while (i < len(corrected_bits)):\n",
    "    if corrected_bits[i:i+24] == flag:\n",
    "        flag_flag = 1\n",
    "        if start != -1:\n",
    "            end = i\n",
    "            temp = corrected_bits[start:end]\n",
    "            new_frames.append(temp)\n",
    "            start = i\n",
    "        else:\n",
    "            start = i\n",
    "    if flag_flag:\n",
    "        i += 24\n",
    "        flag_flag = 0\n",
    "    else:\n",
    "        i += 1\n",
    "\n",
    "new_frames.append(corrected_bits[start:])\n",
    "\n",
    "new_frames = new_frames[:-1]\n",
    "print(new_frames[0])\n",
    "print(len(new_frames[-2]))\n",
    "\n",
    "# frames separated, unstuffed but need :: untripled, CRC checked, and then converted to text"
   ]
  },
  {
   "cell_type": "code",
   "execution_count": 10,
   "id": "aea41d51",
   "metadata": {},
   "outputs": [
    {
     "name": "stdout",
     "output_type": "stream",
     "text": [
      "432\n"
     ]
    }
   ],
   "source": [
    "#######################\n",
    "# Step 5: Remove flag\n",
    "#######################\n",
    "\n",
    "rxseqs = []\n",
    "for nf in new_frames:\n",
    "    rxseqs.append(nf[24:])\n",
    "\n",
    "print(len(rxseqs[0]))\n",
    "# need :: CRC checked, and then converted to text"
   ]
  },
  {
   "cell_type": "code",
   "execution_count": 11,
   "id": "0ca26406",
   "metadata": {},
   "outputs": [
    {
     "name": "stdout",
     "output_type": "stream",
     "text": [
      "010010010110111000100000001100010011100000110101001100110010110000100000011100000111001001101111011011010110100101101110011001010110111001110100001000000101001101110100001011100010000001001100011011111111100010111010\n",
      "011101010110100101110011001000000110110101100101011100100110001101101000011000010110111001110100001000000101011101100001011110010110110101100001011011100010000001000011011100100110111101110111001000000010110111000101\n",
      "011000010110111001100100001000000110100001101001011100110010000001110000011000010111001101110100011011110111001000101100001000000101011101101001011011000110110001101001011000010110110100100000010001110101111011100000\n",
      "011100100110010101100101011011100110110001100101011000010110011000100000010001010110110001101001011011110111010000010000010010100111001000101110001011000010000001100011011011110110111001100011011001011001001101101001\n",
      "011100100110111001100101011001000010000001100001011000100110111101110101011101000010000001110100011010000110010100100000011011000110000101100011011010110010000001101111011001100010000001101001011011101111001010100010\n",
      "011100110111010001101001011101000111010101110100011010010110111101101110011100110010000001101111011001100010000001101000011010010110011101101000011001010111001000100000011011000110010101100001011100100001111100011110\n",
      "011011100110100101101110011001110010000001101001011011100010000001110100011010000110010100100000011001110111001001101111011101110110100101101110011001110010000001101101011010010110010001110111011001011011100110100001\n",
      "011100110111010000101100001000000110110001100101011001000010000001110100011010000110010100100000011001100110111101110101011011100110010001101001011011100110011100100000011011110110011000100000010101110110011110100101\n",
      "011000010111001101101000011010010110111001100111011101000110111101101110001000000101010101101110011010010111011001100101011100100111001101101001011101000111100100100000011010010110111000100000010100110000000011101011\n",
      "011101000010111000100000010011000110111101110101011010010111001100101110001000000100010001110101011100100110100101101110011001110010000001110100011010000110010100100000001100010011100000110100001100000111010111001001\n",
      "011100110010000001100001011011100110010000100000001101010011000001110011001011000010000001110111011000010111011001100101011100110010000001101111011001100010000001101001011011010110110101101001011001110000111000000111010010001100011100100110000101101110011101000111001100100000011001100110110001101111011011110110010001100101011001000010000001101001011011100111010001101111001000000101001101110100001011100010000001001100011011110001101010100110010010001100011101010110100101110011001011000010000001100010011011110110111101110011011101000110100101101110011001110010000001110100011010000110010100100000011100000110111101110000011101010110110001100001011101000001111001101001\n",
      "011010010110111101100000001000000110111101100110001000000111010001101000011001010010000001111001011011110111010101101110011001110010000001100011011010010111010001111001001011100010000001010111011010010000001111001011\n",
      "011101000110100000100000011101000110100001100101011100110110010100100000011011100110010101110111011000110110111101101101011001010111001001110011001000000110001101100001011011010110010100100000011000011001100001101110\n",
      "001000000111000001110010011001010111001101110011011010010110111001100111001000000110111001100101011001010110010000100000011001100110111101110010001000000110010101100100011101010110001101100001011101001101110001010111\n",
      "011010010110111101101110001000000010110100100000011000100110111101110100011010000010000001101001011011100110010001110101011100110111010001110010011010010110000101101100001000000111010001110010011000011111110000010100\n",
      "011010010110111001101001011011100110011100100000011000010110111001100100001000000110001001100001011100110110100101100011001000000110011101100101011011100110010101110010011000010110110000100000011000110000101010110100\n",
      "011011110111010101110010011100110110010101110011001000000010110100100000011000110110111101101110011001000111010101100011011101000110010101100100001000000110111101110101011101000111001101101001011001000000001101000100\n",
      "011001010010000001101111011001100010000001101110011011110111001001101101011000010110110000100000011101110110111101110010011010110110100101101110011001110010000001101000011011110111010101110010011100111101011000101111\n",
      "001011100010000001010011011011110010000001110100011010000110010100100000011001100110100101110010011100110111010000100000011001010110010001110101011000110110000101110100011010010110111101101110011000010110101110001001010010001100011011000010000001110011011101000110010101110000001000000110111101100110001000000111010001101000011001010010000001111001011011110111010101101110011001110010000001010111011000010111001101101000011010011100010001101001\n",
      "011011100110011101110100011011110110111000100000010101010110111001101001011101100110010101110010011100110110100101110100011110010010000001110111011000010111001100100000011101000110111100100000011001011110011100111000\n",
      "011100110111010001100001011000100110110001101001011100110110100000100000011000010110111000100000011001010111011001100101011011100110100101101110011001110010000001110000011100100110111101100111011100100010010100011111\n",
      "011000010110110100100000011011110110111000100000010011110110001101110100011011110110001001100101011100100010000000110010001100100010110000100000001100010011100000110101001101000010111000100000010011111100111000100110\n",
      "011101100110010101110010001000000111010001101000011001010010000001110011011101010110001101100011011001010110010101100100011010010110111001100111001000000110010001100101011000110110000101100100011001010011011100111010\n",
      "011100110010110000100000011101000110100001100101001000000110001101101111011011100111010001101001011011100111010101101001011011100110011100100000011001010110010001110101011000110110000101110100011010011000110001110000\n",
      "011011110110111000100000011100000111001001101111011001110111001001100001011011010010000001110101011011100110010001100101011100100111011101100101011011100111010000100000011011010110000101101110011110010111010101000110010010000110001000000110001101101000011000010110111001100111011001010111001100101110001000000101010001101000011001010010000001110101011011100110100101110110011001010111001001110011011010010111010001111001001000000110000101010111\n",
      "011001100110110001101111011101010111001001101001011100110110100001100101011001000010000001100001011101000010000001101001011101000111001100100000011011000110111101100011011000010111010001101001011011110111011011100111000110001100011011100010000001101001011011100010000001100100011011110111011101101110011101000110111101110111011011100010000001010011011101000010111000100000010011000110111101110101011010010111001100100000011001100011111101110010\n",
      "011011110111001000100000011010010111010001110011001000000110011001101001011100100111001101110100001000000011010100110000001000000111100101100101011000010111001001110011001011000010000001100111011100100110010101011100\n",
      "011011110111011101101001011011100110011100100000011001100111001001101111011011010010000001100001011011100010000001100101011101100110010101101110011010010110111001100111001000000111000001110010011011111000001010101001010010001100011001110111001001100001011011010010000001110100011011110010000001100001011011100010000001101001011011100111001101110100011010010111010001110101011101000110100101101111011011100010000001101111011001100001011100000001\n",
      "011001100110010101110010011010010110111001100111001000000110000100100000011001100111010101101100011011000010000001110011011011000110000101110100011001010010000001101111011001100010000001110011011000111110111000000011\n",
      "011010010110010101101110011101000110100101100110011010010110001100101100001000000110110001101001011000100110010101110010011000010110110000100000011000010111001001110100011100110010000001100001011011100000111001001010\n",
      "011001000010000001100011011011000110000101110011011100110110100101100011011000010110110000100000011000110110111101110101011100100111001101100101001000000110111101100110011001100110010101110010011010010001011111110011\n",
      "011011100110011101110011001011100010000001001001011011100010000001110100011010010110110101100101001011000010000001110011011000110110100001101111011011110110110001110011001000000110111101100110001000000111101110110100010010001100011011000110000101110111001000000110000101101110011001000010000001100110011010010110111001100101001000000110000101110010011101000111001100100000011101110110010101110010011001010010000001100001011001000100011111101101\n",
      "011001000110010101100100001011100010000001001001011011100010000000110001001110000011100100110001001011000010000001110100011010000110010100100000011100110110001101101000011011110110111101101100001000000000110110010001\n",
      "011000010110001101110001011101010110100101110010011001010110010000100000011101000110100001100101001000000101001101110100001011100010000001001100011011110111010101101001011100110010000001001101011001011000001011011110010010001100011001000110100101100011011000010110110000100000010000110110111101101100011011000110010101100111011001010010000001110100011011110010000001100110011011110111001001101101001000000110000100100000011011010110110001000000010010001100011001010110010001101001011000110110000101101100001000000110010001100101011100000110000101110010011101000110110101100101011011100111010000101100001000000111011101101000011010010110001101101000001000000101011010001101\n",
      "216\n"
     ]
    }
   ],
   "source": [
    "#######################\n",
    "# Step 5: Decode RM\n",
    "#######################\n",
    "\n",
    "temp_rxseqs = []\n",
    "for frame in rxseqs:\n",
    "    # frame = frame[:-8]\n",
    "    temp_frame = \"\"\n",
    "    count = 0\n",
    "    while(count < len(frame)):\n",
    "        message = string_to_array(frame[count:count+8])\n",
    "        decoded_msg = decode_message(message, valid_codewords)\n",
    "        temp_frame += array_to_string(decoded_msg)\n",
    "        count += 8\n",
    "    temp_frame += frame[count:]\n",
    "    temp_rxseqs.append(temp_frame)\n",
    "    print(temp_frame)\n",
    "\n",
    "rxseqs = temp_rxseqs\n",
    "# print(rxseqs)\n",
    "print(len(rxseqs[0]))"
   ]
  },
  {
   "cell_type": "code",
   "execution_count": 12,
   "id": "5071c4f1",
   "metadata": {},
   "outputs": [
    {
     "name": "stdout",
     "output_type": "stream",
     "text": [
      "crc: 1010010100010101 crc_rx: 1001001101101001\n",
      "crc: 1110001111100011 crc_rx: 0001111001101001\n",
      "crc: 1101111111010110 crc_rx: 0000001111001011\n",
      "crc: 0100001011110111 crc_rx: 1100010001101001\n",
      "crc: 1100011000001101 crc_rx: 0110000101010111\n",
      "crc: 0111110101100000 crc_rx: 0011111101110010\n",
      "crc: 0011000101101011 crc_rx: 0001011100000001\n",
      "crc: 1100000100110111 crc_rx: 0100011111101101\n",
      "crc: 0001100111010101 crc_rx: 0101011010001101\n",
      "Number of Failed Frames with Error Probability 0.01: --- 9 --- \n",
      "\n",
      "Failed Frames: 26.47058823529412% of 34 total frames recieved.\n"
     ]
    }
   ],
   "source": [
    "#######################\n",
    "# Step 5: Check CRC\n",
    "#######################\n",
    "\n",
    "# Create CRC for g(D) = [D16 + D12 + D5 + 1]\n",
    "crc_str = '10001000000100001' # divisor\n",
    "int_crc_str = int(crc_str,2)\n",
    "failed = 0\n",
    "total = 0\n",
    "\n",
    "for rxs in rxseqs:\n",
    "    crc_rx = rxs[-16:]\n",
    "    beginning = rxs[:-16] + \"0000000000000000\"\n",
    "    beginning = int(beginning,2)\n",
    "    crc = beginning % int_crc_str\n",
    "    crc = format(crc,'016b')\n",
    "    if len(crc) > 16:\n",
    "        crc = crc[-16:]\n",
    "    if crc != crc_rx:\n",
    "        print(\"crc: \"+str(crc)+\" crc_rx: \"+str(crc_rx))\n",
    "        failed += 1\n",
    "    total += 1\n",
    "\n",
    "print('Number of Failed Frames with Error Probability ' + str(prob) + ': --- ' + str(failed) + ' --- \\n')\n",
    "print('Failed Frames: ' + str((failed / total) * 100) + '%' + ' of ' + str(total) + ' total frames recieved.')"
   ]
  },
  {
   "cell_type": "code",
   "execution_count": 13,
   "id": "dd1a04d2",
   "metadata": {},
   "outputs": [
    {
     "name": "stdout",
     "output_type": "stream",
     "text": [
      "In 1853, prominent St. Louis merchant Wayman Crow and his pastor, William Greenleaf Eliot\u0010Jr., concerned about the lack of institutions of higher learning in the growing midwest, led the founding of Washington University in St. Louis. During the 1840s and 50s, waves of immig\u000e\u0007HÇ&\u0016çG2\u0006fÆööFVB\u0006çFò\u00057Bâ\u0004Æñªduis, boosting the populatio` of the young city. With these newcomers came a pressing need for education - both industrial training and basic general courses - conducted outside of normal working hours. So the first educationakHÆÂ\u00077FW\u0002\u0006öb\u0007FR\u0007÷Vær\u0005v\u00176æwFöâ\u0005VæfW'6G\u0007v\u00172\u0007Fò\u0006W7F\u0016&Æ6\u0006\u0016â\u0006WfVæær\u0007\u0007&öw&\u0016Ò\u0006öâ\u0004ö7Fö&W\"\u0003#\"Â\u0003\u0013SBâ\u0004÷fW\"\u0007FR\u00077V66VVFær\u0006FV6\u0016FW2Â\u0007FR\u00066öçFçVær\u0006VGV6\u0017Föâ\u0007\u0007&öw&\u0016Ò\u0007VæFW'vVçB\u0006Ö\u0016çTd changes. The university flourished at its locatiovç\u0018Æâ\u0006â\u0006F÷vçF÷vâ\u00057Bâ\u0004Æ÷V2\u0006f÷\"\u0006G2\u0006f'7B\u0003S\u0002\u0007V\u0017'2Â\u0006w&÷vær\u0006g&öÒ\u0006\u0016â\u0006WfVæær\u0007\u0007&ø*gram to an institution offering a full slate of scientific, liberal arts and classical course offerings. In time, schools of {´HÆÆ\u0017r\u0006\u0016æB\u0006fæR\u0006\u0017'G2\u0007vW&R\u0006\u0016FFVBâ\u0004â\u0003\u0013\u0012Â\u0007FR\u000766ööÂ\u0006\u00167\u0017V&VB\u0007FR\u00057Bâ\u0004Æ÷V2\u0004ÖX-ädical College to form a ml@HÆVF6\u0016Â\u0006FW\u0006\u0017'FÖVçBÂ\u0007v6\n"
     ]
    }
   ],
   "source": [
    "#######################\n",
    "# Convert Back to Text\n",
    "#######################\n",
    "\n",
    "all_rx_bits = ''\n",
    "char_arr = []\n",
    "paragraph = ''\n",
    "i = 0\n",
    "\n",
    "for rxs in rxseqs:\n",
    "    if len(rxs[:-16]) < 200:\n",
    "        continue\n",
    "    else:\n",
    "        all_rx_bits += rxs[:-16]\n",
    "\n",
    "while i < len(all_rx_bits)-7:\n",
    "    char_arr.append(all_rx_bits[i:i+8])\n",
    "    i += 8\n",
    "\n",
    "for cb in char_arr:\n",
    "    character = chr(int(cb,2))\n",
    "    if (character!='~'):\n",
    "        paragraph += character\n",
    "\n",
    "print(paragraph)"
   ]
  },
  {
   "cell_type": "code",
   "execution_count": 14,
   "id": "86c8c42e",
   "metadata": {},
   "outputs": [],
   "source": [
    "# In 1853, prominent St. Louis merchant Wayman Crow and his pastor, William Greenleaf Eliot Jr., concerned about \n",
    "# the lack of institutions of higher learning in the growing midwest, led the founding of Washington University  \n",
    "# in St. Louis. During the 1840s and 50s, waves of immigrants flooded into St. Louis, boosting the population of \n",
    "# the young city. With these newcomers came a pressing need for education - both industrial training and basic \n",
    "# general courses - conducted outside of normal working hours. So the first educational step of the young \n",
    "# Washington University was to establish an evening program on October 22, 1854. Over the succeeding decades, \n",
    "# the continuing education program underwent many changes. The university flourished at its location in downtown \n",
    "# St. Louis for its first 50 years, growing from an evening program to an institution offering a full slate of \n",
    "# scientific, liberal arts and classical course offerings. In time, schools of law and fine arts were added. In \n",
    "# 1891, the school acquired the St. Louis Medical College to form a medical department, which merged with the \n",
    "# Missouri Medical College in 1899."
   ]
  }
 ],
 "metadata": {
  "kernelspec": {
   "display_name": "Python 3",
   "language": "python",
   "name": "python3"
  },
  "language_info": {
   "codemirror_mode": {
    "name": "ipython",
    "version": 3
   },
   "file_extension": ".py",
   "mimetype": "text/x-python",
   "name": "python",
   "nbconvert_exporter": "python",
   "pygments_lexer": "ipython3",
   "version": "3.8.8"
  }
 },
 "nbformat": 4,
 "nbformat_minor": 5
}
