{
 "cells": [
  {
   "cell_type": "code",
   "execution_count": 298,
   "id": "e2b5dd76",
   "metadata": {},
   "outputs": [],
   "source": [
    "#######################\n",
    "# Project 3\n",
    "# ESE 572\n",
    "# Layer 2 Channel Coding\n",
    "#######################\n",
    "\n",
    "# Choose a probability of bit error to use when simulating the receiving end.\n",
    "\n",
    "# prob = 0.1\n",
    "prob = 0.01"
   ]
  },
  {
   "cell_type": "code",
   "execution_count": 299,
   "id": "2fc8fdf2",
   "metadata": {},
   "outputs": [],
   "source": [
    "#######################\n",
    "# Step 1\n",
    "#######################\n",
    "\n",
    "# Function to convert string to binary using ASCII encoding\n",
    "def string_to_binary(string):\n",
    "    binary = ''\n",
    "    binaryS = ''\n",
    "    binaryC = ''\n",
    "    counter = 0\n",
    "    for char in string:\n",
    "        ascii_code = ord(char) # Get ASCII code of character\n",
    "        if counter == 24:\n",
    "            binary += format(ascii_code, '08b')\n",
    "            binaryS += format(ascii_code, '08b') + ' '\n",
    "            binaryC += format(ascii_code, '08b') + '\\n'\n",
    "            counter = 0\n",
    "        else:\n",
    "            binary += format(ascii_code, '08b')\n",
    "            binaryS += format(ascii_code, '08b') + ' '\n",
    "            binaryC += format(ascii_code, '08b')\n",
    "            counter += 1\n",
    "    return binary, binaryS, binaryC\n",
    "\n",
    "# Load the document\n",
    "filename = 'input.txt'\n",
    "text = ''\n",
    "with open(filename,'r') as i:\n",
    "    text += i.readline()\n",
    "    \n",
    "binary_data, binaryS_data, binaryC_data = string_to_binary(text)\n",
    "\n",
    "# binary_data is single line\n",
    "# binaryS_data contain spaces to delimitate each character\n",
    "# binaryC_data is split as chunks of 200 bits\n"
   ]
  },
  {
   "cell_type": "code",
   "execution_count": 300,
   "id": "1e02efa6",
   "metadata": {},
   "outputs": [
    {
     "name": "stdout",
     "output_type": "stream",
     "text": [
      "216\n"
     ]
    }
   ],
   "source": [
    "#######################\n",
    "# Step 2\n",
    "#######################\n",
    "\n",
    "# Create CRC for g(D) = [D16 + D12 + D5 + 1]\n",
    "crc_str = '10001000000100001' # divisor\n",
    "int_crc_str = int(crc_str,2)\n",
    "frames = []\n",
    "\n",
    "binary_chunks = binaryC_data.split('\\n')\n",
    "for chunk in binary_chunks[:-1]:\n",
    "    temp = chunk + \"0000000000000000\"\n",
    "    temp = int(temp,2)\n",
    "    crc = temp % int_crc_str\n",
    "    crc = format(crc, '016b')\n",
    "    if len(crc) > 16:\n",
    "        crc = crc[-16:]\n",
    "    frames.append(chunk + crc)\n",
    "\n",
    "print(len(frames[0]))"
   ]
  },
  {
   "cell_type": "code",
   "execution_count": 301,
   "id": "3e523bff",
   "metadata": {},
   "outputs": [
    {
     "name": "stdout",
     "output_type": "stream",
     "text": [
      "[array([0, 0, 0, 0, 0, 0, 0, 0], dtype=int32), array([0, 1, 0, 1, 0, 1, 0, 1], dtype=int32), array([0, 0, 1, 1, 0, 0, 1, 1], dtype=int32), array([0, 1, 1, 0, 0, 1, 1, 0], dtype=int32), array([0, 0, 0, 0, 1, 1, 1, 1], dtype=int32), array([0, 1, 0, 1, 1, 0, 1, 0], dtype=int32), array([0, 0, 1, 1, 1, 1, 0, 0], dtype=int32), array([0, 1, 1, 0, 1, 0, 0, 1], dtype=int32), array([1, 1, 1, 1, 1, 1, 1, 1], dtype=int32), array([1, 0, 1, 0, 1, 0, 1, 0], dtype=int32), array([1, 1, 0, 0, 1, 1, 0, 0], dtype=int32), array([1, 0, 0, 1, 1, 0, 0, 1], dtype=int32), array([1, 1, 1, 1, 0, 0, 0, 0], dtype=int32), array([1, 0, 1, 0, 0, 1, 0, 1], dtype=int32), array([1, 1, 0, 0, 0, 0, 1, 1], dtype=int32), array([1, 0, 0, 1, 0, 1, 1, 0], dtype=int32)]\n",
      "Sent Message: [0 1 1 1]\n",
      "\n",
      "Encoded code: [0 1 1 0 1 0 0 1]\n",
      "\n",
      "Decoded message: [0, 1, 1, 1]\n",
      "432\n",
      "000011111010101000111100110000110011001100000000011001100101010101100110111111110110011001011010011001100110011000110011111100000011001100000000011010010000000001101001001100110011110010010110001111001010010100111100101010100011110011000011001111000101101000111100110000110110100100001111001100110000000001011010011001100110100100001111001100111100001100110011000000000000111111110000001111001001011010010110111111111001100111001100\n"
     ]
    }
   ],
   "source": [
    "#######################\n",
    "# Step 3\n",
    "#######################\n",
    "## Channel Coding **NEW**\n",
    "\n",
    "import numpy as np\n",
    "\n",
    "def encode_message(msg, matrix):\n",
    "    code = np.mod(np.dot(msg, matrix), 2)\n",
    "    return code\n",
    "\n",
    "def decode_message(code, valid_codewords):\n",
    "    incorrect_vec = []\n",
    "    incorrect = 0\n",
    "    for codeword in valid_codewords:\n",
    "        for ind in range(len(codeword)):\n",
    "            if codeword[ind] != code[ind]:\n",
    "                incorrect += 1\n",
    "        incorrect_vec.append(incorrect)\n",
    "        incorrect = 0\n",
    "    closest = np.min(incorrect_vec)\n",
    "    closest = np.where(incorrect_vec == closest)[0][0]\n",
    "    decoded_msg = valid_data[closest]\n",
    "    return decoded_msg\n",
    "\n",
    "G = np.array([[1,1,1,1,1,1,1,1],\n",
    "              [0,0,0,0,1,1,1,1],\n",
    "              [0,0,1,1,0,0,1,1],\n",
    "              [0,1,0,1,0,1,0,1]])\n",
    "\n",
    "valid_data = [[0,0,0,0], [0,0,0,1], [0,0,1,0], [0,0,1,1],\n",
    "              [0,1,0,0], [0,1,0,1], [0,1,1,0], [0,1,1,1],\n",
    "              [1,0,0,0], [1,0,0,1], [1,0,1,0], [1,0,1,1],\n",
    "              [1,1,0,0], [1,1,0,1], [1,1,1,0], [1,1,1,1]]\n",
    "\n",
    "valid_codewords = []\n",
    "for data in valid_data:\n",
    "    valid_codewords.append(encode_message(data,G))\n",
    "print(valid_codewords)\n",
    "\n",
    "# Example\n",
    "msg = np.array([0, 1, 1, 1])\n",
    "print(\"Sent Message:\", msg)\n",
    "print()\n",
    "\n",
    "code = encode_message(msg, G)\n",
    "print(\"Encoded code:\", code)\n",
    "print()\n",
    "\n",
    "decoded_msg = decode_message(code, valid_codewords)\n",
    "print(\"Decoded message:\", decoded_msg)\n",
    "# End Example\n",
    "\n",
    "def array_to_string(array):\n",
    "    output = \"\"\n",
    "    for each in array:\n",
    "        output += str(each)\n",
    "    return output\n",
    "\n",
    "def string_to_array(string):\n",
    "    output = []\n",
    "    for each in string:\n",
    "        output.append(int(each))\n",
    "    output = np.array(output)\n",
    "    return output\n",
    "\n",
    "def RM_string(input_string):\n",
    "    output_string = \"\"\n",
    "    ind = 0\n",
    "    while(ind <= len(input_string)):\n",
    "        dat = input_string[ind:ind+4]\n",
    "        data_string = string_to_array(dat)\n",
    "        if data_string.size != 0:\n",
    "            data_string = data_string.reshape((1,4))\n",
    "            encoded = encode_message(data_string,G)[0]\n",
    "            output_string += array_to_string(encoded)\n",
    "        else:\n",
    "            output_string += str(dat[-1:])\n",
    "        ind += 4\n",
    "    return output_string\n",
    "\n",
    "binaryRM = []\n",
    "for frame in frames:\n",
    "    binaryRM.append(RM_string(frame))\n",
    "    \n",
    "print(len(binaryRM[0]))\n",
    "print(binaryRM[0])"
   ]
  },
  {
   "cell_type": "code",
   "execution_count": 321,
   "id": "d728b4ff",
   "metadata": {},
   "outputs": [
    {
     "name": "stdout",
     "output_type": "stream",
     "text": [
      "416\n",
      "000111111111111111111000000011111010101000111100110000110011001100000000011001100101010101100110111111110110011001011010011001100110011000110011111100000011001100000000011010010000000001101001001100110011110010010110001111001010010100111100101010100011110011000011001111000101101000111100110000110110100100001111001100110000000001011010011001100110100100001111001100111100001100110011000000000000111111110000001111001001011010010110111111111001100111001100000111111111111111111000\n",
      "bits stuffed: 0\n",
      "['000111111111111111111000000011111010101000111100110000110011001100000000011001100101010101100110111111110110011001011010011001100110011000110011111100000011001100000000011010010000000001101001001100110011110010010110001111001010010100111100101010100011110011000011001111000101101000111100110000110110100100001111001100110000000001011010011001100110100100001111001100111100001100110011000000000000111111110000001111001001011010010110111111111001100111001100000111111111111111111000']\n"
     ]
    }
   ],
   "source": [
    "#######################\n",
    "# Step 4\n",
    "#######################\n",
    "#binRM = binaryRM[0]\n",
    "# flag = '01111110'\n",
    "\n",
    "binRM= binaryRM[0]\n",
    "\n",
    "flag = '000111111111111111111000' # tripled\n",
    "framed_frames = []\n",
    "bitstuff=0\n",
    "#for binRM in binaryRM:\n",
    "i = 0\n",
    "\n",
    "while(i <= (len(binRM) - 18)):\n",
    "    if binRM[i:i+17] == '11111111111111111':\n",
    "        binRM = binRM[:i+16] + '0' + binRM[i+16:] # bit stuff after any string of five 1s\n",
    "        bitstuff+=1\n",
    "    i += 8\n",
    "framed_frames.append(flag + binRM + flag)\n",
    "print(i)\n",
    "#frame0 = array_to_string(code)\n",
    "#frame0 = flag+frame0+flag\n",
    "#print(frame0)\n",
    "print(framed_frames[0])\n",
    "#framed_frames.append(flag) # after last FEC frame, insert another flag\n",
    "print('bits stuffed: '+str(bitstuff))\n",
    "print(framed_frames)"
   ]
  },
  {
   "cell_type": "code",
   "execution_count": 322,
   "id": "6c12baaf",
   "metadata": {},
   "outputs": [
    {
     "name": "stdout",
     "output_type": "stream",
     "text": [
      "480\n"
     ]
    }
   ],
   "source": [
    "#######################\n",
    "# Sequence to Transmit\n",
    "#######################\n",
    "\n",
    "sequence = ''\n",
    "for fram in framed_frames:\n",
    "    sequence += fram\n",
    "    # print(len(fram))\n",
    "    \n",
    "print(len(sequence))"
   ]
  },
  {
   "cell_type": "code",
   "execution_count": 323,
   "id": "589856a0",
   "metadata": {},
   "outputs": [
    {
     "name": "stdout",
     "output_type": "stream",
     "text": [
      "0\n",
      "480\n"
     ]
    }
   ],
   "source": [
    "#######################\n",
    "# Step 5: Error\n",
    "#######################\n",
    "\n",
    "import random\n",
    "\n",
    "lim = {0.1: 9,\n",
    "       0.01: 99}\n",
    "\n",
    "rxbits = ''\n",
    "un = 0\n",
    "\n",
    "for bit in sequence:\n",
    "    #rnum = random.randint(0,lim[prob])\n",
    "    rnum = 1 # no errors\n",
    "    if rnum == 0: # error bit\n",
    "        un += 1\n",
    "        if bit == '1':\n",
    "            bit = '0'\n",
    "        else:\n",
    "            bit = '1'\n",
    "    rxbits += bit\n",
    "print(un)\n",
    "print(len(rxbits))"
   ]
  },
  {
   "cell_type": "code",
   "execution_count": 324,
   "id": "2cd09a32",
   "metadata": {},
   "outputs": [
    {
     "name": "stdout",
     "output_type": "stream",
     "text": [
      "480\n"
     ]
    }
   ],
   "source": [
    "#######################\n",
    "# Step 5: Unstuffing\n",
    "#######################\n",
    "\n",
    "# stuff_seq = '000111110'\n",
    "\n",
    "def unstuff(bits):\n",
    "    i = 0\n",
    "    while i < len(bits)-3:\n",
    "        #print(bits[i:i+19])\n",
    "        if bits[i:i+18] == '111111111111111101':\n",
    "            print(bits[i:i+18])\n",
    "            bits = bits[:i+16] + bits[i+17:] # remove bit stuffing\n",
    "            print(bits[i:i+18])\n",
    "            i += 19\n",
    "        else:\n",
    "            i += 8\n",
    "    return bits\n",
    "\n",
    "rxbits = unstuff(rxbits)\n",
    "# rxbits, un = unstuff(sequence)\n",
    "print(len(rxbits))"
   ]
  },
  {
   "cell_type": "code",
   "execution_count": 325,
   "id": "ca81846e",
   "metadata": {},
   "outputs": [
    {
     "name": "stdout",
     "output_type": "stream",
     "text": [
      "000111111111111111111000\n",
      "456\n",
      "['000111111111111111111000000011111010101000111100110000110011001100000000011001100101010101100110111111110110011001011010011001100110011000110011111100000011001100000000011010010000000001101001001100110011110010010110001111001010010100111100101010100011110011000011001111000101101000111100110000110110100100001111001100110000000001011010011001100110100100001111001100111100001100110011000000000000111111110000001111001001011010010110111111111001100111001100', '000111111111111111111000']\n"
     ]
    }
   ],
   "source": [
    "#######################\n",
    "# Step 5: Fixing\n",
    "#######################\n",
    "\n",
    "corrected_bits = rxbits\n",
    "# finding flags to reseparate frames\n",
    "i = 0\n",
    "start = -1\n",
    "end = -1\n",
    "new_frames = []\n",
    "flag_flag = 0\n",
    "\n",
    "while (i < len(corrected_bits)):\n",
    "    if corrected_bits[i:i+24] == flag:\n",
    "        flag_flag = 1\n",
    "        if start != -1:\n",
    "            end = i\n",
    "            temp = corrected_bits[start:end]\n",
    "            new_frames.append(temp)\n",
    "            start = i\n",
    "        else:\n",
    "            # temp = corrected_bits[:i]\n",
    "            # new_frames.append(temp)\n",
    "            start = i\n",
    "    if flag_flag:\n",
    "        i += 24\n",
    "        flag_flag = 0\n",
    "    else:\n",
    "        i += 1\n",
    "new_frames.append(corrected_bits[start:])\n",
    "# new_frames = new_frames[1:]\n",
    "\n",
    "print(new_frames[-1])\n",
    "print(len(new_frames[-2]))\n",
    "print(new_frames)\n",
    "# frames separated, unstuffed but need :: untripled, CRC checked, and then converted to text"
   ]
  },
  {
   "cell_type": "code",
   "execution_count": 326,
   "id": "cd1d3d99",
   "metadata": {},
   "outputs": [],
   "source": [
    "#######################\n",
    "# Step 5: Un - encode\n",
    "#######################\n",
    "\n",
    "# temp_rxseqs = []\n",
    "# for frame in new_frames:\n",
    "#     temp_frame = \"\"\n",
    "#     count = 0\n",
    "#     while(count+8 < len(frame)):\n",
    "#         message = string_to_array(frame[count:count+8])\n",
    "#         decoded_msg = decode_message(message, valid_codewords)\n",
    "#         temp_frame += array_to_string(decoded_msg)\n",
    "#         count += 8\n",
    "#     temp_frame += frame[count:]\n",
    "#     temp_rxseqs.append(temp_frame)\n",
    "#     print(temp_frame)\n",
    "\n",
    "# binaryout = temp_rxseqs\n",
    "# print(binaryout)"
   ]
  },
  {
   "cell_type": "code",
   "execution_count": 332,
   "id": "aea41d51",
   "metadata": {},
   "outputs": [
    {
     "name": "stdout",
     "output_type": "stream",
     "text": [
      "['000011111010101000111100110000110011001100000000011001100101010101100110111111110110011001011010011001100110011000110011111100000011001100000000011010010000000001101001001100110011110010010110001111001010010100111100101010100011110011000011001111000101101000111100110000110110100100001111001100110000000001011010011001100110100100001111001100111100001100110011000000000000111111110000001111001001011010010110111111111001100111001100', '']\n",
      "432\n"
     ]
    }
   ],
   "source": [
    "#######################\n",
    "# Step 5: Remove flag\n",
    "#######################\n",
    "\n",
    "rxseqs = []\n",
    "for nf in new_frames:\n",
    "    rxseqs.append(nf[24:])\n",
    "\n",
    "print(rxseqs)\n",
    "rxseqs = rxseqs[0:-1]\n",
    "print(len(rxseqs[0]))\n",
    "# need :: CRC checked, and then converted to text"
   ]
  },
  {
   "cell_type": "code",
   "execution_count": 328,
   "id": "c4417c8f",
   "metadata": {},
   "outputs": [
    {
     "name": "stdout",
     "output_type": "stream",
     "text": [
      "['000011111010101000111100110000110011001100000000011001100101010101100110111111110110011001011010011001100110011000110011111100000011001100000000011010010000000001101001001100110011110010010110001111001010010100111100101010100011110011000011001111000101101000111100110000110110100100001111001100110000000001011010011001100110100100001111001100111100001100110011000000000000111111110000001111001001011010010110111111111001100111001100']\n"
     ]
    },
    {
     "ename": "IndexError",
     "evalue": "list index out of range",
     "output_type": "error",
     "traceback": [
      "\u001b[1;31m---------------------------------------------------------------------------\u001b[0m",
      "\u001b[1;31mIndexError\u001b[0m                                Traceback (most recent call last)",
      "Input \u001b[1;32mIn [328]\u001b[0m, in \u001b[0;36m<cell line: 13>\u001b[1;34m()\u001b[0m\n\u001b[0;32m     11\u001b[0m \u001b[38;5;28mprint\u001b[39m(rxseqs)\n\u001b[0;32m     12\u001b[0m rxseqs \u001b[38;5;241m=\u001b[39m rxseqs[\u001b[38;5;241m0\u001b[39m:\u001b[38;5;241m-\u001b[39m\u001b[38;5;241m1\u001b[39m]\n\u001b[1;32m---> 13\u001b[0m \u001b[38;5;28mprint\u001b[39m(\u001b[38;5;28mlen\u001b[39m(\u001b[43mrxseqs\u001b[49m\u001b[43m[\u001b[49m\u001b[38;5;241;43m0\u001b[39;49m\u001b[43m]\u001b[49m))\n",
      "\u001b[1;31mIndexError\u001b[0m: list index out of range"
     ]
    }
   ],
   "source": [
    "#######################\n",
    "# Step 5: Remove removed bits\n",
    "#######################\n",
    "\n",
    "rxfinal = []\n",
    "for f in rxseqs:\n",
    "    if f !='':\n",
    "        rxfinal.append(f)\n",
    "\n",
    "rxseqs=rxfinal\n",
    "print(rxseqs)\n",
    "rxseqs = rxseqs[0:-1]\n",
    "print(len(rxseqs[0]))\n",
    "# need :: CRC checked, and then converted to text"
   ]
  },
  {
   "cell_type": "code",
   "execution_count": 333,
   "id": "0ca26406",
   "metadata": {},
   "outputs": [
    {
     "name": "stdout",
     "output_type": "stream",
     "text": [
      "0100100101101110001000000011000100111000001101010011001100101100001000000111000001110010011011110110110101101001011011100110010101101110011101000010000001010011011101000010111000100000010011000110111111111000101111001100\n",
      "['0100100101101110001000000011000100111000001101010011001100101100001000000111000001110010011011110110110101101001011011100110010101101110011101000010000001010011011101000010111000100000010011000110111111111000101111001100']\n"
     ]
    }
   ],
   "source": [
    "#######################\n",
    "# Step 5: Decode RM\n",
    "#######################\n",
    "\n",
    "temp_rxseqs = []\n",
    "for frame in rxseqs:\n",
    "    temp_frame = \"\"\n",
    "    count = 0\n",
    "    while(count+8 < len(frame)):\n",
    "        message = string_to_array(frame[count:count+8])\n",
    "        decoded_msg = decode_message(message, valid_codewords)\n",
    "        temp_frame += array_to_string(decoded_msg)\n",
    "        count += 8\n",
    "    temp_frame += frame[count:]\n",
    "    temp_rxseqs.append(temp_frame)\n",
    "    print(temp_frame)\n",
    "\n",
    "rxseqs = temp_rxseqs\n",
    "print(rxseqs)"
   ]
  },
  {
   "cell_type": "code",
   "execution_count": 334,
   "id": "5071c4f1",
   "metadata": {},
   "outputs": [
    {
     "name": "stdout",
     "output_type": "stream",
     "text": [
      "crc: 1100100000000100 crc_rx: 1000101111001100\n",
      "Number of Failed Frames with Error Probability 0.01: --- 1 --- \n",
      "\n",
      "Failed Frames: 100.0% of 1 total frames recieved.\n"
     ]
    }
   ],
   "source": [
    "#######################\n",
    "# Step 5: Check CRC\n",
    "#######################\n",
    "\n",
    "# Create CRC for g(D) = [D16 + D12 + D5 + 1]\n",
    "crc_str = '10001000000100001' # divisor\n",
    "int_crc_str = int(crc_str,2)\n",
    "failed = 0\n",
    "total = 0\n",
    "\n",
    "for rxs in rxseqs:\n",
    "    crc_rx = rxs[-16:]\n",
    "    beginning = rxs[:-16] + \"0000000000000000\"\n",
    "    beginning = int(beginning,2)\n",
    "    crc = beginning % int_crc_str\n",
    "    crc = format(crc,'016b')\n",
    "    if len(crc) > 16:\n",
    "        crc = crc[-16:]\n",
    "    if crc != crc_rx:\n",
    "        print(\"crc: \"+str(crc)+\" crc_rx: \"+str(crc_rx))\n",
    "        failed += 1\n",
    "    total += 1\n",
    "\n",
    "print('Number of Failed Frames with Error Probability ' + str(prob) + ': --- ' + str(failed) + ' --- \\n')\n",
    "print('Failed Frames: ' + str((failed / total) * 100) + '%' + ' of ' + str(total) + ' total frames recieved.')"
   ]
  },
  {
   "cell_type": "code",
   "execution_count": 335,
   "id": "dd1a04d2",
   "metadata": {},
   "outputs": [
    {
     "name": "stdout",
     "output_type": "stream",
     "text": [
      "205\n",
      "HERE\n",
      "In 1853, prominent St. Lo\n"
     ]
    }
   ],
   "source": [
    "#######################\n",
    "# Convert Back to Text\n",
    "#######################\n",
    "\n",
    "all_rx_bits = ''\n",
    "char_arr = []\n",
    "paragraph = ''\n",
    "i = 0\n",
    "\n",
    "#print(rxseqs)\n",
    "\n",
    "for rxs in rxseqs:\n",
    "    print(len(rxs[:-15]))\n",
    "    if len(rxs[:-15]) < 200:\n",
    "        continue\n",
    "    else:\n",
    "        print(\"HERE\")\n",
    "        all_rx_bits += rxs[:-15]\n",
    "    \n",
    "while i < len(all_rx_bits)-7:\n",
    "    char_arr.append(all_rx_bits[i:i+8])\n",
    "    i += 8\n",
    "\n",
    "for cb in char_arr:\n",
    "    character = chr(int(cb,2))\n",
    "    if (character!='~'):\n",
    "        paragraph += character\n",
    "\n",
    "print(paragraph)"
   ]
  },
  {
   "cell_type": "code",
   "execution_count": 268,
   "id": "86c8c42e",
   "metadata": {},
   "outputs": [],
   "source": [
    "# In 1853, prominent St. Louis merchant Wayman Crow and his pastor, William Greenleaf Eliot Jr., concerned about \n",
    "# the lack of institutions of higher learning in the growing midwest, led the founding of Washington University  \n",
    "# in St. Louis. During the 1840s and 50s, waves of immigrants flooded into St. Louis, boosting the population of \n",
    "# the young city. With these newcomers came a pressing need for education - both industrial training and basic \n",
    "# general courses - conducted outside of normal working hours. So the first educational step of the young \n",
    "# Washington University was to establish an evening program on October 22, 1854. Over the succeeding decades, \n",
    "# the continuing education program underwent many changes. The university flourished at its location in downtown \n",
    "# St. Louis for its first 50 years, growing from an evening program to an institution offering a full slate of \n",
    "# scientific, liberal arts and classical course offerings. In time, schools of law and fine arts were added. In \n",
    "# 1891, the school acquired the St. Louis Medical College to form a medical department, which merged with the \n",
    "# Missouri Medical College in 1899."
   ]
  },
  {
   "cell_type": "code",
   "execution_count": null,
   "id": "f6d4bdd6",
   "metadata": {},
   "outputs": [],
   "source": []
  },
  {
   "cell_type": "code",
   "execution_count": null,
   "id": "dbd48660",
   "metadata": {},
   "outputs": [],
   "source": []
  },
  {
   "cell_type": "code",
   "execution_count": null,
   "id": "8612451c",
   "metadata": {},
   "outputs": [],
   "source": []
  }
 ],
 "metadata": {
  "kernelspec": {
   "display_name": "Python 3 (ipykernel)",
   "language": "python",
   "name": "python3"
  },
  "language_info": {
   "codemirror_mode": {
    "name": "ipython",
    "version": 3
   },
   "file_extension": ".py",
   "mimetype": "text/x-python",
   "name": "python",
   "nbconvert_exporter": "python",
   "pygments_lexer": "ipython3",
   "version": "3.9.12"
  }
 },
 "nbformat": 4,
 "nbformat_minor": 5
}
